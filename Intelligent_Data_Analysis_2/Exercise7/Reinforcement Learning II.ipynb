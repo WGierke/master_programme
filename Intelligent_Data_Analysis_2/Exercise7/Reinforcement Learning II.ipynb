{
 "cells": [
  {
   "cell_type": "markdown",
   "metadata": {},
   "source": [
    "# Reinforcement Learning II: $Q$-learning\n"
   ]
  },
  {
   "cell_type": "code",
   "execution_count": 1,
   "metadata": {
    "collapsed": true
   },
   "outputs": [],
   "source": [
    "import numpy as np\n",
    "import matplotlib.pyplot as plt\n",
    "\n",
    "%matplotlib inline"
   ]
  },
  {
   "cell_type": "markdown",
   "metadata": {},
   "source": [
    "In the first reinforcment lab we learned how to find the best value-state function $V^*$ for a given Markov decision process (MDP). In real world problems specifing a complet MDP is often not possible due to unknown or infinite (or at least very big) state space. In such cases Monte Carlo methods can be used to learn $Q$ directly.\n",
    "\n",
    "In this lab we will investigate Q-learning and how to deal with an unknown state space. Therfore we define a class which stores q values in a lookup table."
   ]
  },
  {
   "cell_type": "code",
   "execution_count": 2,
   "metadata": {
    "collapsed": true
   },
   "outputs": [],
   "source": [
    "class QValues(object):\n",
    "    \n",
    "    def __init__(self):\n",
    "        '''Initialize with empty lookup table.'''\n",
    "        self.values = {}\n",
    "        \n",
    "    def get_value(self, state, action):\n",
    "        '''Return stored q value for (state, action) pair or a random number if unknown.'''\n",
    "        if not state in self.values:\n",
    "            self.values[state] = {}\n",
    "        if not action in self.values[state]:\n",
    "            self.values[state][action] = abs(np.random.randn()) + 1\n",
    "        return self.values[state][action]\n",
    "    \n",
    "    def set_value(self, state, action, value):\n",
    "        '''Stored q value for (state, action) pair.'''\n",
    "        if not state in self.values:\n",
    "            self.values[state] = {}\n",
    "        if not action in self.values[state]:\n",
    "            self.values[state][action] = 0\n",
    "        \n",
    "        self.values[state][action] = value\n",
    "    \n",
    "    def max_action(self, state, actions, learning=True):\n",
    "        '''Return the action with highest q value for given state and action list.'''\n",
    "        if not learning and not state in self.values:\n",
    "            return actions[0] if actions else None\n",
    "        \n",
    "        max_value = -np.inf\n",
    "        max_action = actions[0] if actions else None\n",
    "        for action in actions:\n",
    "            if not learning and not action in self.values[state]:\n",
    "                continue\n",
    "\n",
    "            value = self.get_value(state, action)\n",
    "            if value > max_value:\n",
    "                max_value = value\n",
    "                max_action = action\n",
    "            elif value == max_value and learning:\n",
    "                max_action = np.random.choice([max_action, action])\n",
    "        return max_action\n",
    "    \n",
    "    def epsilon_greedy(self, state, actions, epsilon):\n",
    "        '''Returns max_action or random action with probability of epsilon.'''\n",
    "        if np.random.rand() < epsilon:\n",
    "            return np.random.choice(actions)\n",
    "        return self.max_action(state, actions)\n",
    "    \n",
    "    def __str__(self):\n",
    "        nr_states = len(self.values.keys())\n",
    "        return 'Number of states: {}'.format(nr_states)"
   ]
  },
  {
   "cell_type": "markdown",
   "metadata": {},
   "source": [
    "We can now add $(state, action)$ pairs to $Q$ and request pairs we haven’t set yet (which get initialised randomly)."
   ]
  },
  {
   "cell_type": "code",
   "execution_count": 3,
   "metadata": {},
   "outputs": [
    {
     "name": "stdout",
     "output_type": "stream",
     "text": [
      "Q(0, \"left\") = 0.5\n",
      "Q(1, \"up\") = 1.86257030614\n",
      "{0: {'down': 1.2, 'left': 0.5}, 1: {'up': 1.8625703061395276}}\n"
     ]
    }
   ],
   "source": [
    "q = QValues()\n",
    "q.set_value(0, 'down', 1.2)\n",
    "q.set_value(0, 'left', 0.5)\n",
    "print('Q(0, \"left\") = {}'.format(q.get_value(0, 'left')))\n",
    "print('Q(1, \"up\") = {}'.format(q.get_value(1, 'up')))\n",
    "print(q.values)"
   ]
  },
  {
   "cell_type": "markdown",
   "metadata": {},
   "source": [
    "We can also request the action with the highest q value in a given state $s$ for a list of actions. For the Monte Carlo approch we can also request the action with the highest q value with an $\\epsilon$ chance of getting a random action."
   ]
  },
  {
   "cell_type": "code",
   "execution_count": 4,
   "metadata": {},
   "outputs": [
    {
     "name": "stdout",
     "output_type": "stream",
     "text": [
      "Max action in state 0: down\n",
      "epsilon_greedy in state 0: left\n",
      "epsilon_greedy in state 0: down\n",
      "epsilon_greedy in state 0: down\n",
      "epsilon_greedy in state 0: left\n",
      "epsilon_greedy in state 0: left\n"
     ]
    }
   ],
   "source": [
    "print('Max action in state 0: {}'.format(q.max_action(0, ['down', 'left'])))\n",
    "for _ in range(5):\n",
    "    print('epsilon_greedy in state 0: {}'.format(q.epsilon_greedy(0, ['down', 'left'], epsilon=1.)))\n"
   ]
  },
  {
   "cell_type": "markdown",
   "metadata": {},
   "source": [
    "Instead of an MDP we model the world as an environment. It holds the current state (e.g. coordinates of a robot) and defines the allowed actions in the current state (e.g. according to the current coordinates \"drive left\" or \"drive ahead\"). It allows the execution of an action and returns the next state and the reward for the action. Compare this definition to the definition in the lecture slides (page 9)."
   ]
  },
  {
   "cell_type": "code",
   "execution_count": 5,
   "metadata": {
    "collapsed": true
   },
   "outputs": [],
   "source": [
    "class Environment(object):\n",
    "\n",
    "    def __init__(self):\n",
    "        '''Initialise  environment.'''\n",
    "        pass\n",
    "    \n",
    "    def reset(self):\n",
    "        '''Reset environment to initial state.'''\n",
    "        pass\n",
    "   \n",
    "    def get_state(self):\n",
    "        '''Return current state.'''\n",
    "        pass\n",
    "    \n",
    "    def get_actions(self):\n",
    "        '''Return all allowed actions as list (might be empty).'''\n",
    "        pass\n",
    "\n",
    "    def exceute(self, action):\n",
    "        '''Set internal state to the new state according to action and return (new_state, reward) tuple.'''\n",
    "        pass"
   ]
  },
  {
   "cell_type": "markdown",
   "metadata": {},
   "source": [
    "The following code is just a helper function to display a grid world example."
   ]
  },
  {
   "cell_type": "code",
   "execution_count": 6,
   "metadata": {
    "collapsed": true
   },
   "outputs": [],
   "source": [
    "def draw_gridworld(env, path=[]):\n",
    "    plt.plot()\n",
    "    plt.xlim(-1, 2)\n",
    "    plt.ylim(3, -1)\n",
    "    plt.grid()\n",
    "    plt.xticks([0,1])\n",
    "    plt.yticks([0,1,2])\n",
    "    plt.gca().set_xticklabels([])\n",
    "    plt.gca().set_yticklabels([])\n",
    "\n",
    "    plt.annotate('goal ' + str(env.goal), (env.goal[0]+0.25, env.goal[1]+0.5))\n",
    "    plt.annotate('start' + str(env.start), (env.start[0]+0.25, env.start[1]+0.5))        \n",
    "    for (x1, y1), (x2, y2) in env.walls:\n",
    "        if x1 == x2:\n",
    "            plt.plot([x1, x1+1],[max(y1,y2), max(y1,y2)], c='k')\n",
    "        else:\n",
    "            plt.plot([max(x1,x2), max(x1,x2)], [min(y1, y2), min(y1, y2)+1], c='k')\n",
    "    for (x,y), action in path:\n",
    "        plt.scatter(x+0.5, y+0.5, s=100, c='blue', marker={'left': '<', 'right':'>','up':'^', 'down':'v'}[action])"
   ]
  },
  {
   "cell_type": "markdown",
   "metadata": {},
   "source": [
    "Lets define a grid word example as environment. We have a start, goal and current position. Each position is given in (x,y)-coordinates. The get_actions method allows 'left', 'right', 'up' and 'down' in any position except the final one. The reward for each action is -1. See how we can generate and infinit state space by just walking endless in one direction."
   ]
  },
  {
   "cell_type": "code",
   "execution_count": 7,
   "metadata": {
    "collapsed": true
   },
   "outputs": [],
   "source": [
    "class GridWorld(Environment):\n",
    "\n",
    "    def __init__(self):\n",
    "        self.start = (0, 0)\n",
    "        self.goal = (0, 1)\n",
    "        self.position = (0, 0)\n",
    "        self.walls = []\n",
    "    \n",
    "    def reset(self):\n",
    "        self.position = self.start\n",
    "\n",
    "    def get_state(self):\n",
    "        return self.position\n",
    "    \n",
    "    def get_actions(self):\n",
    "        return [] if self.position == self.goal else ['left', 'right', 'up', 'down']\n",
    "        \n",
    "    def exceute(self, action):\n",
    "        position = self.get_state()\n",
    "        move = {'left':(-1,0), 'right':(1,0), 'up':(0,-1), 'down':(0,1)}[action]\n",
    "        self.position = (position[0] + move[0], position[1] + move[1])\n",
    "\n",
    "        reward = -1.\n",
    "        return self.position, reward\n",
    "    \n",
    "    def draw(self, path=[]):\n",
    "        draw_gridworld(self, path)"
   ]
  },
  {
   "cell_type": "markdown",
   "metadata": {},
   "source": [
    "For visualisation we display only the states around the start and goal."
   ]
  },
  {
   "cell_type": "code",
   "execution_count": 8,
   "metadata": {},
   "outputs": [
    {
     "data": {
      "image/png": "[encoded data removed]",
      "text/plain": [
       "<matplotlib.figure.Figure at 0x7fedec296b10>"
      ]
     },
     "metadata": {},
     "output_type": "display_data"
    }
   ],
   "source": [
    "GridWorld().draw()"
   ]
  },
  {
   "cell_type": "markdown",
   "metadata": {},
   "source": [
    "The following code shows how $Q$-learning can be implemented. Our implementation will use the environment to read the current state, get the possible actions and get the reward after choosing an action.\n",
    "\n",
    "#### Q-learning Algorithm:\n",
    "\n",
    "Initialize $Q(s,a)$ arbitrarily<br>\n",
    "Repeat (for each episode):<br>\n",
    "&nbsp;&nbsp;&nbsp;&nbsp;Initialize $s$<br>\n",
    "&nbsp;&nbsp;&nbsp;&nbsp;Repeat (for each step of episode):<br>\n",
    "&nbsp;&nbsp;&nbsp;&nbsp;&nbsp;&nbsp;&nbsp;&nbsp;Choose $a$ from $s$ using policy derived from $Q$ by $\\epsilon$-greedy<br>\n",
    "&nbsp;&nbsp;&nbsp;&nbsp;&nbsp;&nbsp;&nbsp;&nbsp;Take action $a$, observe $r, s'$<br>\n",
    "&nbsp;&nbsp;&nbsp;&nbsp;&nbsp;&nbsp;&nbsp;&nbsp;$Q(s,a) \\leftarrow Q(s,a) + \\alpha [r+ \\gamma $max$_{a'}Q(s',a')-Q(s,a)]$<br>\n",
    "&nbsp;&nbsp;&nbsp;&nbsp;&nbsp;&nbsp;&nbsp;&nbsp;$s \\leftarrow s'$<br>\n",
    "&nbsp;&nbsp;&nbsp;&nbsp;until $s$ terminal<br>\n",
    "Output $Q$"
   ]
  },
  {
   "cell_type": "code",
   "execution_count": 9,
   "metadata": {
    "collapsed": true
   },
   "outputs": [],
   "source": [
    "def q_learning(env, q=None, nr_episodes=100, nr_steps=100, epsilon=0.1, alpha=0.1, gamma=0.98):\n",
    "    if not q:\n",
    "        q = QValues()\n",
    "\n",
    "    for _ in range(nr_episodes):\n",
    "        env.reset()\n",
    "        for _ in range(nr_steps):\n",
    "            state = env.get_state()\n",
    "            actions = env.get_actions()\n",
    "            if not actions:\n",
    "                break # final state reached\n",
    "\n",
    "            action = q.epsilon_greedy(state, actions, epsilon)\n",
    "            q_old = q.get_value(state, action)\n",
    "            \n",
    "            _, reward = env.exceute(action) #take action\n",
    "            next_state = env.get_state()\n",
    "            next_max_action = q.max_action(next_state, env.get_actions())\n",
    "            q_next = q.get_value(next_state, next_max_action)\n",
    "            \n",
    "            q_new = q_old + alpha * (reward + gamma * q_next - q_old)\n",
    "            q.set_value(state, action, q_new)\n",
    "    return q"
   ]
  },
  {
   "cell_type": "markdown",
   "metadata": {
    "collapsed": true
   },
   "source": [
    "We can now use the algorithm to derive $Q$ for the grid word example. From $Q$ we can get an optimal path by always choosing the actions with the highest expected reward."
   ]
  },
  {
   "cell_type": "code",
   "execution_count": 10,
   "metadata": {},
   "outputs": [
    {
     "name": "stdout",
     "output_type": "stream",
     "text": [
      "(0, 0) down -> (0, 1)\n"
     ]
    },
    {
     "data": {
      "image/png": "[encoded data removed]",
      "text/plain": [
       "<matplotlib.figure.Figure at 0x7fee067244d0>"
      ]
     },
     "metadata": {},
     "output_type": "display_data"
    }
   ],
   "source": [
    "env = GridWorld()\n",
    "q = q_learning(env, nr_episodes=100, nr_steps=100)\n",
    "\n",
    "env.reset()\n",
    "best_path = []\n",
    "for _ in range (10):\n",
    "    state = env.get_state()\n",
    "    actions = env.get_actions()\n",
    "    if not actions:\n",
    "        break # final state reached\n",
    "\n",
    "    action = q.max_action(state, actions, learning=False)\n",
    "    next_state, _ = env.exceute(action)\n",
    "    print('{} {} -> {}'.format(state, action, next_state))\n",
    "\n",
    "    best_path.append((state, action))\n",
    "    \n",
    "env.draw(best_path)"
   ]
  },
  {
   "cell_type": "markdown",
   "metadata": {},
   "source": [
    "As expected it was learned that the best state-action value from the initial state is down to the final state. Notice that during learning much more states where visited due to $\\epsilon$-greedy policy."
   ]
  },
  {
   "cell_type": "code",
   "execution_count": 11,
   "metadata": {},
   "outputs": [
    {
     "name": "stdout",
     "output_type": "stream",
     "text": [
      "Number of states: 353\n"
     ]
    }
   ],
   "source": [
    "print(q)"
   ]
  },
  {
   "cell_type": "markdown",
   "metadata": {},
   "source": [
    "#### Exercise\n",
    "\n",
    "Lets create a new grid world environment by defining two walls (one between start and goal and one between goal and the field right to goal). Rewrite the execute method in such way that a an action that would cause a movement through a wall results in saying in the current position (state). The reward should be -1 in any case."
   ]
  },
  {
   "cell_type": "code",
   "execution_count": 12,
   "metadata": {
    "collapsed": true
   },
   "outputs": [],
   "source": [
    "class GridWorld2(GridWorld):\n",
    "\n",
    "    def __init__(self):\n",
    "        self.start = (0, 0)\n",
    "        self.goal = (0, 1)\n",
    "        self.position = (0, 0)\n",
    "        self.walls = [((0, 0), (0, 1)), # wall from (0,0) to (0,1)\n",
    "                      ((0, 1), (1, 1))] # wall from (0,1) to (1,1)\n",
    "            \n",
    "    def exceute(self, action):\n",
    "        position = self.get_state()\n",
    "        if (position == (0, 0) and action == 'down') or (position == (1, 1) and action == 'left'):\n",
    "            return position, -1\n",
    "        else:\n",
    "            move = {'left':(-1,0), 'right':(1,0), 'up':(0,-1), 'down':(0,1)}[action]\n",
    "            self.position = (position[0] + move[0], position[1] + move[1])\n",
    "\n",
    "            reward = -1.\n",
    "            return self.position, reward"
   ]
  },
  {
   "cell_type": "markdown",
   "metadata": {},
   "source": [
    "When the code was implemented correct the optimal path found should be:\n",
    "\n",
    "Position,  Action -> Next Position <br>\n",
    "(0, 0),    left   -> (-1, 0)<br>\n",
    "(-1, 0),   down   -> (-1, 1)<br>\n",
    "(-1, 1),   right  -> (0, 1)<br>"
   ]
  },
  {
   "cell_type": "code",
   "execution_count": 13,
   "metadata": {},
   "outputs": [
    {
     "name": "stdout",
     "output_type": "stream",
     "text": [
      "(0, 0) left -> (-1, 0)\n",
      "(-1, 0) down -> (-1, 1)\n",
      "(-1, 1) right -> (0, 1)\n"
     ]
    },
    {
     "data": {
      "image/png": "[encoded data removed]",
      "text/plain": [
       "<matplotlib.figure.Figure at 0x7fedea178850>"
      ]
     },
     "metadata": {},
     "output_type": "display_data"
    }
   ],
   "source": [
    "env = GridWorld2()\n",
    "q = q_learning(env, nr_episodes=500, nr_steps=100, epsilon=0.1, alpha=0.1, gamma=0.98)\n",
    "\n",
    "env.reset()\n",
    "best_path = []\n",
    "for _ in range (10):\n",
    "    state = env.get_state()\n",
    "    actions = env.get_actions()\n",
    "    if not actions:\n",
    "        break # final state reached\n",
    "\n",
    "    action = q.max_action(state, actions, learning=False)\n",
    "    next_state, _ = env.exceute(action)\n",
    "    print('{} {} -> {}'.format(state, action, next_state))\n",
    "\n",
    "    best_path.append((state, action))\n",
    "    \n",
    "env.draw(best_path)"
   ]
  },
  {
   "cell_type": "markdown",
   "metadata": {},
   "source": [
    "#### Question\n",
    "\n",
    "When lowering the nr_episodes (e.g. 50) in the above example the found path may not be optimal or leading to the final state at all. What are the reason for this behaviour?"
   ]
  },
  {
   "cell_type": "markdown",
   "metadata": {},
   "source": [
    "#### Answer\n",
    "\n",
    "- $Q$-Learning does not guarantee to result in $Q^*$\n",
    "- too few episodes or steps might result in never reaching the final state\n",
    "- find good balance between exploration and exploitation\n",
    "- init values for $Q$ should be chosen with respoect to the rewards (here random negative instead of positive)"
   ]
  },
  {
   "cell_type": "markdown",
   "metadata": {},
   "source": [
    "Instead of implementing $Q$ as lookup table, one can use a neuronal network. Think about possible implementations and how the training would change. One possible solution will be presented in the exercise."
   ]
  }
 ],
 "metadata": {
  "kernelspec": {
   "display_name": "Python 2",
   "language": "python",
   "name": "python2"
  },
  "language_info": {
   "codemirror_mode": {
    "name": "ipython",
    "version": 2
   },
   "file_extension": ".py",
   "mimetype": "text/x-python",
   "name": "python",
   "nbconvert_exporter": "python",
   "pygments_lexer": "ipython2",
   "version": "2.7.12"
  }
 },
 "nbformat": 4,
 "nbformat_minor": 1
}
