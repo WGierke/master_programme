{
 "cells": [
  {
   "cell_type": "markdown",
   "metadata": {},
   "source": [
    "# Reinforcement Learning I: Value Iteration"
   ]
  },
  {
   "cell_type": "code",
   "execution_count": 1,
   "metadata": {
    "collapsed": true
   },
   "outputs": [],
   "source": [
    "import time\n",
    "\n",
    "import numpy as np\n",
    "import matplotlib.pyplot as plt\n",
    "import pandas\n",
    "\n",
    "%matplotlib inline"
   ]
  },
  {
   "cell_type": "markdown",
   "metadata": {},
   "source": [
    "The goal of this lab is to learn how to solve the reinforcement problem of finding an optimal policy for a Markov decision process with known transition probabilities and rewards.\n",
    "\n",
    "We start by defining a Markov decision process (MDP) as a 5-tuple $(S,A,P,R,\\gamma)$ with:\n",
    "\n",
    "* $S$  a finite set of states,\n",
    "* $A$ a finite set of actions,\n",
    "* $P(s,a,s')$ as the probability that action $a$ in state $s$ at time $t$ will lead to state $s'$ at time $t + 1$,\n",
    "* $R(s,a,s')$ is the immediate reward received after transitioning from state $s$ to state $s'$ due to action $a$,\n",
    "* $\\gamma \\in [0,1]$ a discount factor.\n",
    "\n",
    "We will work on a simple 4x4 grid world example. Each field in the grid is represented as a state (0-15)."
   ]
  },
  {
   "cell_type": "code",
   "execution_count": 2,
   "metadata": {},
   "outputs": [
    {
     "data": {
      "image/png": "[encoded data removed]",
      "text/plain": [
       "<matplotlib.figure.Figure at 0x7fddf2b14518>"
      ]
     },
     "metadata": {},
     "output_type": "display_data"
    }
   ],
   "source": [
    "plt.plot()\n",
    "plt.xlim(0, 4)\n",
    "plt.ylim(4, 0)\n",
    "plt.grid()\n",
    "plt.xticks([1,2,3])\n",
    "plt.yticks([1,2,3])\n",
    "plt.gca().set_xticklabels([])\n",
    "plt.gca().set_yticklabels([])\n",
    "for i in range(16):\n",
    "    y = i / 4\n",
    "    x = i % 4 \n",
    "    plt.annotate('{}'.format(i), xy=(x+0.25, y+0.5))"
   ]
  },
  {
   "cell_type": "markdown",
   "metadata": {},
   "source": [
    "The agent can move from field to field by the actions 'up', 'down', 'right' and 'left'. State 0 and 15 are final states where no action is allowed. All actions that would cause the agent to move out of the grid should result in staying in the current field (eg. agent is in state 1 and takes action 'up' -> next state is 1).\n",
    "\n",
    "We define the transition probabilities $P:S \\times A \\times S =1$ for all states and actions.<br>\n",
    "We also give a reward $R: S \\times A \\times S =-1$ for all possible actions in all states."
   ]
  },
  {
   "cell_type": "code",
   "execution_count": 3,
   "metadata": {
    "collapsed": true
   },
   "outputs": [],
   "source": [
    "states = np.arange(16)\n",
    "actions = ['up', 'down', 'right', 'left']\n",
    "transitions = {}\n",
    "rewards = {}\n",
    "for state in states:\n",
    "    for action in actions:\n",
    "        if state in [0, 15]:\n",
    "            continue\n",
    "\n",
    "        if ((action == 'up' and state in [1,2,3]) or\n",
    "           (action == 'down' and state in [12,13,14]) or\n",
    "           (action == 'right' and state in [3,7,11]) or\n",
    "           (action == 'left' and state in [4,8,12])):\n",
    "            next_state = state\n",
    "        else:\n",
    "            next_state = state + {'up': -4, 'down': 4, 'right': 1, 'left':-1}[action]\n",
    "        transitions[(state, action, next_state)] = 1\n",
    "        rewards[(state, action, next_state)] = -1\n",
    "        \n",
    "gamma = 0.9\n",
    "gridwrold_mdp = (states, actions, transitions, rewards, gamma)"
   ]
  },
  {
   "cell_type": "markdown",
   "metadata": {},
   "source": [
    "The state value function $V^{\\pi}(s)$ is defined as the expected long-term reward of a policy $\\pi$ starting from state $s$: $$V^{\\pi}(s)=R^{\\pi(s,a)}_{s}+\\gamma \\sum_{s'}[P^a_{s,s'} V^\\pi(s')]$$\n",
    "\n",
    "$V^\\pi$ can either be solved by linear equations or by dynamic programming. The following algorithm (from \"Reinforcement Learning - An Introduction\", Richard S. Sutton and Andre G. Barto) shows the dynamic programming approach \n",
    "\n",
    "#### Policy Evaluation Algorithm:\n",
    "\n",
    "Input $\\pi$, the policy to be evaluated<br>\n",
    "Initialize $V(s)=0$, for all $s \\in S$<br>\n",
    "Repeat<br>\n",
    "&nbsp;&nbsp;&nbsp;&nbsp;$\\Delta \\leftarrow 0$<br>\n",
    "&nbsp;&nbsp;&nbsp;&nbsp;For each $s \\in S$:<br>\n",
    "&nbsp;&nbsp;&nbsp;&nbsp;&nbsp;&nbsp;&nbsp;&nbsp;$v \\leftarrow V(s)$<br>\n",
    "&nbsp;&nbsp;&nbsp;&nbsp;&nbsp;&nbsp;&nbsp;&nbsp;$V(s) \\leftarrow \\sum_{a} \\pi(s,a) \\sum_{s'} P_{s,s'}^{a}[R_{s,s'}^{a} + \\gamma V(s')]$<br>\n",
    "&nbsp;&nbsp;&nbsp;&nbsp;&nbsp;&nbsp;&nbsp;&nbsp;$\\Delta \\leftarrow$ max $(\\Delta, \\vert v-V(s)\\vert)$<br>\n",
    "until $\\Delta < \\epsilon$<br>\n",
    "Output $V$\n"
   ]
  },
  {
   "cell_type": "markdown",
   "metadata": {},
   "source": [
    "The policy_evaluation method implements the algorithms."
   ]
  },
  {
   "cell_type": "code",
   "execution_count": 6,
   "metadata": {
    "collapsed": true
   },
   "outputs": [],
   "source": [
    "def policy_evaluation(mdp, policy, epsilon=.001, max_iter=None):\n",
    "    states, actions, transitions, rewards, gamma = mdp\n",
    "    \n",
    "    # look up table for next states \n",
    "    next_states = {}\n",
    "    for state, action, next_state in transitions.keys():\n",
    "        next_states[(state, action)] = next_state\n",
    "    \n",
    "    V = dict([(state, 0) for state in states])\n",
    "    while True:\n",
    "        delta = 0\n",
    "        new_V = dict([(state, 0) for state in states])\n",
    "        for state in states:\n",
    "            for (state_, action), action_probability in policy.items():\n",
    "                if state != state_:\n",
    "                    continue\n",
    "                next_state = next_states[(state, action)]\n",
    "                \n",
    "                reward = rewards[(state, action, next_state)]\n",
    "                transition_probability = transitions[(state, action, next_state)]\n",
    "\n",
    "                new_V[state] += action_probability * transition_probability * (reward + gamma * V[next_state])\n",
    "            delta = max(delta, abs(V[state] - new_V[state]))\n",
    "        V = new_V\n",
    "\n",
    "        max_iter = max_iter - 1 if not max_iter is None else None\n",
    "        if delta < epsilon or (not max_iter is None and max_iter <= 0):\n",
    "            break\n",
    "    return V"
   ]
  },
  {
   "cell_type": "markdown",
   "metadata": {},
   "source": [
    "#### Question 1\n",
    "\n",
    "The given implementation differs from the algorithm. What is the difference? Does it affect our grid world example?"
   ]
  },
  {
   "cell_type": "markdown",
   "metadata": {},
   "source": [
    "#### Answer\n",
    "\n",
    "The implementation assumes the MDP to be deterministic: each action results in exactly one state. Furthermore, we have an additional termination criterion which is the number of maximal iterations (if given)."
   ]
  },
  {
   "cell_type": "markdown",
   "metadata": {},
   "source": [
    "Lets define a random walk policy where each action in each state has the same probability."
   ]
  },
  {
   "cell_type": "code",
   "execution_count": 4,
   "metadata": {
    "collapsed": true
   },
   "outputs": [],
   "source": [
    "random_policy = {}\n",
    "for state, action, _ in transitions.keys():\n",
    "    random_policy[(state, action)] = 0.25"
   ]
  },
  {
   "cell_type": "markdown",
   "metadata": {},
   "source": [
    "We can visualise the state value function for several iterations of the policy evaluation algorithm given the random policy."
   ]
  },
  {
   "cell_type": "code",
   "execution_count": 7,
   "metadata": {},
   "outputs": [
    {
     "data": {
      "image/png": "[encoded data removed]",
      "text/plain": [
       "<matplotlib.figure.Figure at 0x7fddf09ea7f0>"
      ]
     },
     "metadata": {},
     "output_type": "display_data"
    }
   ],
   "source": [
    "def plot_gridworld(V):\n",
    "    plt.plot()\n",
    "    plt.xlim(0, 4)\n",
    "    plt.ylim(4, 0)\n",
    "    plt.grid()\n",
    "    plt.xticks([1,2,3])\n",
    "    plt.yticks([1,2,3])\n",
    "    plt.gca().set_xticklabels([])\n",
    "    plt.gca().set_yticklabels([])\n",
    "    for state, v in V.items():\n",
    "        y = state / 4\n",
    "        x = state % 4 \n",
    "        plt.annotate('{:.2f}'.format(v), xy=(x+0.25, y+0.5))\n",
    "\n",
    "plt.figure(figsize=(14,4))\n",
    "for n in range(1, 6):\n",
    "    plt.subplot(1, 5, n)\n",
    "    V = policy_evaluation(gridwrold_mdp,  random_policy, 0.001, n)\n",
    "    plot_gridworld(V)\n",
    "    plt.title('Iteration: ' + str(n))"
   ]
  },
  {
   "cell_type": "markdown",
   "metadata": {},
   "source": [
    "#### Question 2\n",
    "\n",
    "After which iteration does a greedy policy (always choosing the action leading to the next state with the highest expected reward) stop changing?"
   ]
  },
  {
   "cell_type": "markdown",
   "metadata": {},
   "source": [
    "#### Answer\n",
    "\n",
    "After iteration 3 the optimal routes don't change anymore."
   ]
  },
  {
   "cell_type": "markdown",
   "metadata": {
    "collapsed": true
   },
   "source": [
    "#### Exercise 1\n",
    "\n",
    "Write a policy $\\pi$ that causes $V^{\\pi}(3)$ (the corner field up/right) to get the lowest expected reward."
   ]
  },
  {
   "cell_type": "code",
   "execution_count": 8,
   "metadata": {},
   "outputs": [
    {
     "data": {
      "image/png": "[encoded data removed]",
      "text/plain": [
       "<matplotlib.figure.Figure at 0x7f31dc6a7cd0>"
      ]
     },
     "metadata": {},
     "output_type": "display_data"
    }
   ],
   "source": [
    "# Exercise\n",
    "\n",
    "biased_policy = {}\n",
    "for state, action, _ in transitions.keys():\n",
    "    if state == 3:\n",
    "        \n",
    "    pass\n",
    "        \n",
    "V = policy_evaluation(gridwrold_mdp,  biased_policy, 0.001)\n",
    "plot_gridworld(V)"
   ]
  },
  {
   "cell_type": "markdown",
   "metadata": {},
   "source": [
    "Next we would like to find the optimal value function\n",
    "$V^{*}=$max$_a[R^a + \\gamma P^a V^{*}]$ and derive the best policy from it. A dynamic programming algorithm is given below.\n",
    "\n",
    "#### Value iteration Algorithm:\n",
    "\n",
    "Initialize $V(s)=0$, for all $s \\in S$<br>\n",
    "Repeat<br>\n",
    "&nbsp;&nbsp;&nbsp;&nbsp;$\\Delta \\leftarrow 0$<br>\n",
    "&nbsp;&nbsp;&nbsp;&nbsp;For each $s \\in S$:<br>\n",
    "&nbsp;&nbsp;&nbsp;&nbsp;&nbsp;&nbsp;&nbsp;&nbsp;$v \\leftarrow V(s)$<br>\n",
    "&nbsp;&nbsp;&nbsp;&nbsp;&nbsp;&nbsp;&nbsp;&nbsp;$V(s) \\leftarrow$ max$_a \\sum_{s'} P_{s,s'}^{a}[R_{s,s'}^{a} + \\gamma V(s')]$<br>\n",
    "&nbsp;&nbsp;&nbsp;&nbsp;&nbsp;&nbsp;&nbsp;&nbsp;$\\Delta \\leftarrow$ max $(\\Delta, \\vert v-V(s)\\vert)$<br>\n",
    "until $\\Delta < \\epsilon$\n",
    "\n",
    "Output a deterministic policy, $\\pi$, such that<br>\n",
    "&nbsp;&nbsp;&nbsp;&nbsp;$\\pi(s)=$arg max$_a \\sum_{s'}P^a_{s,s'}[R_{s,s'}^{a} + \\gamma V(s')]$<br>\n"
   ]
  },
  {
   "cell_type": "code",
   "execution_count": 9,
   "metadata": {
    "collapsed": true
   },
   "outputs": [],
   "source": [
    "def value_iteration(mdp, epsilon=.001, max_iter=None):\n",
    "    states, actions, transitions, rewards, gamma = mdp\n",
    "    \n",
    "    V = dict([(state, 0) for state in states])\n",
    "    while True:\n",
    "        delta = 0\n",
    "        new_V = dict([(state, 0) for state in states])\n",
    "        for state in states:\n",
    "            action_rewards = {}\n",
    "            for (state_, action, next_state), transition_probability in transitions.items():\n",
    "                if state != state_:\n",
    "                    continue\n",
    "\n",
    "                reward = rewards[(state, action, next_state)]\n",
    "                action_reward = transition_probability * (reward + gamma * V[next_state])\n",
    "                if action in action_rewards:\n",
    "                    action_rewards[action] += action_reward\n",
    "                else:\n",
    "                    action_rewards[action] = action_reward\n",
    "\n",
    "            new_V[state] = 0 if len(action_rewards.values()) == 0 else max(action_rewards.values())\n",
    "            delta = max(delta, abs(V[state] - new_V[state]))\n",
    "        V = new_V\n",
    "\n",
    "        max_iter = max_iter - 1 if not max_iter is None else None\n",
    "        if delta < epsilon or (not max_iter is None and max_iter <= 0):\n",
    "            break\n",
    "    return best_policy(mdp, V)\n",
    "\n",
    "def best_policy(mdp, V):\n",
    "    states, actions, transitions, rewards, gamma = mdp\n",
    "    \n",
    "    policy = {}\n",
    "    for state in states:\n",
    "        action_rewards = {}\n",
    "        for (state_, action, next_state), transition_probability in transitions.items():\n",
    "            if state != state_:\n",
    "                continue\n",
    "\n",
    "            reward = rewards[(state, action, next_state)]\n",
    "            action_reward = transition_probability * (reward + gamma * V[next_state])\n",
    "            if action in action_rewards:\n",
    "                action_rewards[action] += action_reward\n",
    "            else:\n",
    "                action_rewards[action] = action_reward\n",
    "        if len(action_rewards) > 0:\n",
    "            policy[state] = action_rewards.keys()[np.argmax(action_rewards.values())]\n",
    "    return policy"
   ]
  },
  {
   "cell_type": "markdown",
   "metadata": {},
   "source": [
    "#### Question 3\n",
    "\n",
    "Where is the optimal state-action value function $Q^{*}(s,a)$ (compare lecture slides) in the algorithm?"
   ]
  },
  {
   "cell_type": "markdown",
   "metadata": {},
   "source": [
    "#### Answer\n",
    "\n",
    "`best_policy` iterates over all states and actions of which $Q^{*}(s,a)$ is a part of."
   ]
  },
  {
   "cell_type": "markdown",
   "metadata": {},
   "source": [
    "We can now derive the optimal policy (optimal control actions for each state)."
   ]
  },
  {
   "cell_type": "code",
   "execution_count": 10,
   "metadata": {},
   "outputs": [
    {
     "data": {
      "image/png": "[encoded data removed]",
      "text/plain": [
       "<matplotlib.figure.Figure at 0x7f31d8aab490>"
      ]
     },
     "metadata": {},
     "output_type": "display_data"
    }
   ],
   "source": [
    "optimal_policy = value_iteration(gridwrold_mdp, 0.5)\n",
    "\n",
    "def plot_gridworld_policy(policy):\n",
    "    plt.plot()\n",
    "    plt.xlim(0, 4)\n",
    "    plt.ylim(4, 0)\n",
    "    plt.grid()\n",
    "    plt.xticks([1,2,3])\n",
    "    plt.yticks([1,2,3])\n",
    "    plt.gca().set_xticklabels([])\n",
    "    plt.gca().set_yticklabels([])\n",
    "    \n",
    "    for state, action in policy.items():\n",
    "        y = state / 4 + 0.5\n",
    "        x = state % 4  + 0.5\n",
    "        plt.scatter(x, y, s=100, marker={'left': '<', 'right':'>','up':'^', 'down':'v'}[action], c='k')\n",
    "\n",
    "plot_gridworld_policy(optimal_policy)"
   ]
  },
  {
   "cell_type": "markdown",
   "metadata": {},
   "source": [
    "#### Question 4\n",
    "\n",
    "Is there more than one optimal solution for our grid world?"
   ]
  },
  {
   "cell_type": "markdown",
   "metadata": {},
   "source": [
    "#### Answer\n",
    "\n",
    "Yes, one could e.g. also go to the left in state 3 or to the top in state 13."
   ]
  },
  {
   "cell_type": "markdown",
   "metadata": {},
   "source": [
    "#### Exercise 2\n",
    "\n",
    "Create your own MDP (labyrinth with walls and bad fields, Tic-Tac-Toe game, ...) and learn an optimal policy. Visualise the solution. Be creative!"
   ]
  },
  {
   "cell_type": "code",
   "execution_count": 11,
   "metadata": {
    "collapsed": true
   },
   "outputs": [],
   "source": [
    "# Exercise\n"
   ]
  },
  {
   "cell_type": "code",
   "execution_count": 15,
   "metadata": {},
   "outputs": [
    {
     "data": {
      "image/png": "[encoded data removed]",
      "text/plain": [
       "<matplotlib.figure.Figure at 0x7f4d37ff1cd0>"
      ]
     },
     "metadata": {},
     "output_type": "display_data"
    }
   ],
   "source": [
    "# Example\n"
   ]
  }
 ],
 "metadata": {
  "kernelspec": {
   "display_name": "home_venv2.7",
   "language": "python",
   "name": "home_venv2.7"
  },
  "language_info": {
   "codemirror_mode": {
    "name": "ipython",
    "version": 2
   },
   "file_extension": ".py",
   "mimetype": "text/x-python",
   "name": "python",
   "nbconvert_exporter": "python",
   "pygments_lexer": "ipython2",
   "version": "2.7.12"
  }
 },
 "nbformat": 4,
 "nbformat_minor": 1
}
