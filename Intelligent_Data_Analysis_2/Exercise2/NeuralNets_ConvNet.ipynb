{
 "cells": [
  {
   "cell_type": "markdown",
   "metadata": {},
   "source": [
    "# Neural Nets: Convolution\n",
    "\n",
    "In this lab we try to build a model to detect handwritten digits. This lab should introduce you in the use of keras and should enable you to build and train your own CNNs."
   ]
  },
  {
   "cell_type": "code",
   "execution_count": 1,
   "metadata": {},
   "outputs": [
    {
     "name": "stderr",
     "output_type": "stream",
     "text": [
      "Using TensorFlow backend.\n"
     ]
    }
   ],
   "source": [
    "# imports\n",
    "from keras.datasets import mnist\n",
    "import matplotlib.pyplot as plt\n",
    "import numpy as np\n",
    "\n",
    "# nn\n",
    "from keras import backend as K\n",
    "from keras.models import Sequential\n",
    "from keras.layers.core import Dense, Dropout, Flatten, Reshape, Activation\n",
    "from keras.layers.convolutional import Conv2D, MaxPooling2D\n",
    "from keras.utils import np_utils\n",
    "\n",
    "# image manipulation\n",
    "import cv2\n",
    "\n",
    "%matplotlib inline"
   ]
  },
  {
   "cell_type": "markdown",
   "metadata": {},
   "source": [
    "First of all, we load our data set that is devided into a training and a testing set."
   ]
  },
  {
   "cell_type": "code",
   "execution_count": 2,
   "metadata": {
    "collapsed": true
   },
   "outputs": [],
   "source": [
    "# load digit dataset with training and test images\n",
    "(x_train, y_train), (x_test, y_test) = mnist.load_data()"
   ]
  },
  {
   "cell_type": "markdown",
   "metadata": {},
   "source": [
    "In this data set we have 10 different classes. Each data point in this data set is an image of resoution 28x28 and shows a handwirtten digit."
   ]
  },
  {
   "cell_type": "code",
   "execution_count": 3,
   "metadata": {},
   "outputs": [
    {
     "name": "stdout",
     "output_type": "stream",
     "text": [
      "number of rows: 28; number of cols: 28\n"
     ]
    }
   ],
   "source": [
    "nb_classes = 10\n",
    "# dimension\n",
    "img_rows, img_cols = x_train[0].shape\n",
    "print('number of rows: ' + str(img_rows) + '; number of cols: ' + str(img_cols))"
   ]
  },
  {
   "cell_type": "markdown",
   "metadata": {},
   "source": [
    "To get a better feeling for the data we take a look at the first 10 instances."
   ]
  },
  {
   "cell_type": "code",
   "execution_count": 4,
   "metadata": {},
   "outputs": [
    {
     "data": {
      "image/png": "[encoded data removed]",
      "text/plain": [
       "<matplotlib.figure.Figure at 0x7f3a952dacf8>"
      ]
     },
     "metadata": {},
     "output_type": "display_data"
    },
    {
     "name": "stdout",
     "output_type": "stream",
     "text": [
      "number of train images: 60000\n"
     ]
    }
   ],
   "source": [
    "# The data consists of images of digits, let's\n",
    "# have a look at the first 4 images, stored in the `images` attribute of the\n",
    "# dataset. For all images, we know which digit they represent: it is given in the 'target' of\n",
    "# the dataset.\n",
    "num_to_show = 10\n",
    "for i in range(num_to_show):\n",
    "    image = x_train[i]\n",
    "    label = y_train[i]\n",
    "    plt.subplot(2, num_to_show, i + 1)\n",
    "    plt.axis('off')\n",
    "    plt.imshow(image, cmap=plt.cm.gray_r, interpolation='nearest')\n",
    "    plt.title(str(label))\n",
    "plt.show()\n",
    "\n",
    "# print some statistics\n",
    "print('number of train images: ' + str(len(x_train)))"
   ]
  },
  {
   "cell_type": "markdown",
   "metadata": {},
   "source": [
    "<b>Exercise 1:</b>  \n",
    "Create a histogram showing the class distribution."
   ]
  },
  {
   "cell_type": "code",
   "execution_count": 8,
   "metadata": {},
   "outputs": [
    {
     "data": {
      "image/png": "[encoded data removed]",
      "text/plain": [
       "<matplotlib.figure.Figure at 0x7f3a8fb5fa20>"
      ]
     },
     "metadata": {},
     "output_type": "display_data"
    }
   ],
   "source": [
    "import matplotlib.pyplot as plt\n",
    "plt.hist(y_train)\n",
    "plt.show()"
   ]
  },
  {
   "cell_type": "markdown",
   "metadata": {},
   "source": [
    "We have to reshape the training and test data so that a model created by keras can handle it. We do so by just adding an extra dimension."
   ]
  },
  {
   "cell_type": "code",
   "execution_count": 9,
   "metadata": {
    "collapsed": true
   },
   "outputs": [],
   "source": [
    "# transform data set\n",
    "if K.image_data_format() == 'channels_first':\n",
    "    x_train = x_train.reshape(x_train.shape[0], 1, img_rows, img_cols)\n",
    "    x_test = x_test.reshape(x_test.shape[0], 1, img_rows, img_cols)\n",
    "    input_shape = (1, img_rows, img_cols)\n",
    "else:\n",
    "    x_train = x_train.reshape(x_train.shape[0], img_rows, img_cols, 1)\n",
    "    x_test = x_test.reshape(x_test.shape[0], img_rows, img_cols, 1)\n",
    "    input_shape = (img_rows, img_cols, 1)"
   ]
  },
  {
   "cell_type": "markdown",
   "metadata": {},
   "source": [
    "<b>Simple Neural Model</b>\n",
    "\n",
    "Our first simple model is a neural net with one hidden layer consisting of 512 hidden units and a ReLU activation function. To prevent overfitting a dropout layer is added after that. The input for this net is an image that is converted to a flat vector in the first layer. Please have a look at the architecture and try to understand the structure of this neural net."
   ]
  },
  {
   "cell_type": "code",
   "execution_count": 10,
   "metadata": {},
   "outputs": [
    {
     "name": "stdout",
     "output_type": "stream",
     "text": [
      "_________________________________________________________________\n",
      "Layer (type)                 Output Shape              Param #   \n",
      "=================================================================\n",
      "flatten_1 (Flatten)          (None, 784)               0         \n",
      "_________________________________________________________________\n",
      "dense_1 (Dense)              (None, 512)               401920    \n",
      "_________________________________________________________________\n",
      "dropout_1 (Dropout)          (None, 512)               0         \n",
      "_________________________________________________________________\n",
      "dense_2 (Dense)              (None, 10)                5130      \n",
      "=================================================================\n",
      "Total params: 407,050\n",
      "Trainable params: 407,050\n",
      "Non-trainable params: 0\n",
      "_________________________________________________________________\n"
     ]
    }
   ],
   "source": [
    "def getSimpleModel():\n",
    "    # simple model with dense layers\n",
    "    simpleModel = Sequential()\n",
    "    simpleModel.add(Flatten(input_shape=input_shape))\n",
    "    simpleModel.add(Dense(512, activation='relu'))\n",
    "    simpleModel.add(Dropout(0.2))\n",
    "    simpleModel.add(Dense(nb_classes, activation='softmax'))\n",
    "\n",
    "    simpleModel.compile(loss='categorical_crossentropy', optimizer='SGD', metrics=['accuracy'])\n",
    "    return simpleModel\n",
    "\n",
    "simpleModel = getSimpleModel()\n",
    "simpleModel.summary()"
   ]
  },
  {
   "cell_type": "markdown",
   "metadata": {},
   "source": [
    "<b>Simple Convolutional Neural Net</b>\n",
    "\n",
    "The second neural net we are using is a convolutional neural net. This network consists of a convolutional layer a max pooling layer and a dense layer in the end. "
   ]
  },
  {
   "cell_type": "code",
   "execution_count": 11,
   "metadata": {},
   "outputs": [
    {
     "name": "stdout",
     "output_type": "stream",
     "text": [
      "_________________________________________________________________\n",
      "Layer (type)                 Output Shape              Param #   \n",
      "=================================================================\n",
      "conv2d_1 (Conv2D)            (None, 26, 26, 32)        320       \n",
      "_________________________________________________________________\n",
      "max_pooling2d_1 (MaxPooling2 (None, 13, 13, 32)        0         \n",
      "_________________________________________________________________\n",
      "dropout_2 (Dropout)          (None, 13, 13, 32)        0         \n",
      "_________________________________________________________________\n",
      "flatten_2 (Flatten)          (None, 5408)              0         \n",
      "_________________________________________________________________\n",
      "dense_3 (Dense)              (None, 128)               692352    \n",
      "_________________________________________________________________\n",
      "dropout_3 (Dropout)          (None, 128)               0         \n",
      "_________________________________________________________________\n",
      "dense_4 (Dense)              (None, 10)                1290      \n",
      "=================================================================\n",
      "Total params: 693,962\n",
      "Trainable params: 693,962\n",
      "Non-trainable params: 0\n",
      "_________________________________________________________________\n"
     ]
    }
   ],
   "source": [
    "# simple cnn\n",
    "def getCNNModel():\n",
    "    nb_filters_one = 32\n",
    "    nb_filters_two = 64\n",
    "    nb_conv = 3\n",
    "    nb_pool = 2\n",
    "    dense_size = 128\n",
    "    cnnModel = Sequential()\n",
    "    cnnModel.add(Conv2D(nb_filters_one, kernel_size=(nb_conv, nb_conv),\n",
    "                     activation='relu',\n",
    "                     input_shape=input_shape))\n",
    "    cnnModel.add(MaxPooling2D(pool_size=(nb_pool, nb_pool)))\n",
    "    cnnModel.add(Dropout(0.25))\n",
    "    cnnModel.add(Flatten())\n",
    "    cnnModel.add(Dense(dense_size, activation='relu'))\n",
    "    cnnModel.add(Dropout(0.5))\n",
    "    cnnModel.add(Dense(nb_classes, activation='softmax'))\n",
    "\n",
    "    cnnModel.compile(loss='categorical_crossentropy', optimizer='SGD', metrics=['accuracy'])\n",
    "    return cnnModel\n",
    "\n",
    "cnnModel = getCNNModel()\n",
    "cnnModel.summary()"
   ]
  },
  {
   "cell_type": "markdown",
   "metadata": {},
   "source": [
    "<b>Exercise 2:</b>  \n",
    "Compare the two different network architectures. What can you say about the number of trainable parameters? Which neural net will probably work better?"
   ]
  },
  {
   "cell_type": "markdown",
   "metadata": {},
   "source": [
    "<b>Answer:</b>\n",
    "number of parameter in cnn is higher. and cnn will probably work better"
   ]
  },
  {
   "cell_type": "markdown",
   "metadata": {},
   "source": [
    "To use the integer label for the neural net training we have to encode them in a one-hot-encoding way."
   ]
  },
  {
   "cell_type": "code",
   "execution_count": 12,
   "metadata": {
    "collapsed": true
   },
   "outputs": [],
   "source": [
    "oneHotLabelTrain = np_utils.to_categorical(y_train, nb_classes)\n",
    "oneHotLabelTest  = np_utils.to_categorical(y_test,  nb_classes)"
   ]
  },
  {
   "cell_type": "markdown",
   "metadata": {},
   "source": [
    "Now we can train both models and save the training and testing accuracies for the different epochs in a callback. This can really take some time."
   ]
  },
  {
   "cell_type": "code",
   "execution_count": 13,
   "metadata": {},
   "outputs": [
    {
     "name": "stdout",
     "output_type": "stream",
     "text": [
      "Train on 60000 samples, validate on 10000 samples\n",
      "Epoch 1/10\n",
      "60000/60000 [==============================] - 2s - loss: 10.9606 - acc: 0.3188 - val_loss: 10.1658 - val_acc: 0.3685\n",
      "Epoch 2/10\n",
      "60000/60000 [==============================] - 2s - loss: 9.5791 - acc: 0.4050 - val_loss: 8.9485 - val_acc: 0.4446\n",
      "Epoch 3/10\n",
      "60000/60000 [==============================] - 2s - loss: 9.1016 - acc: 0.4347 - val_loss: 7.7266 - val_acc: 0.5202\n",
      "Epoch 4/10\n",
      "60000/60000 [==============================] - 2s - loss: 8.4317 - acc: 0.4760 - val_loss: 8.8877 - val_acc: 0.4476\n",
      "Epoch 5/10\n",
      "60000/60000 [==============================] - 2s - loss: 8.5809 - acc: 0.4673 - val_loss: 8.4924 - val_acc: 0.4730\n",
      "Epoch 6/10\n",
      "60000/60000 [==============================] - 2s - loss: 8.8736 - acc: 0.4492 - val_loss: 7.8537 - val_acc: 0.5124\n",
      "Epoch 7/10\n",
      "60000/60000 [==============================] - 2s - loss: 8.4045 - acc: 0.4781 - val_loss: 7.5134 - val_acc: 0.5337\n",
      "Epoch 8/10\n",
      "60000/60000 [==============================] - 2s - loss: 7.7948 - acc: 0.5161 - val_loss: 7.4153 - val_acc: 0.5399\n",
      "Epoch 9/10\n",
      "60000/60000 [==============================] - 2s - loss: 7.8939 - acc: 0.5098 - val_loss: 7.7290 - val_acc: 0.5200\n",
      "Epoch 10/10\n",
      "60000/60000 [==============================] - 2s - loss: 7.7535 - acc: 0.5186 - val_loss: 8.0226 - val_acc: 0.5019\n",
      "Train on 60000 samples, validate on 10000 samples\n",
      "Epoch 1/10\n",
      "60000/60000 [==============================] - 15s - loss: 9.0770 - acc: 0.4317 - val_loss: 5.4330 - val_acc: 0.6565\n",
      "Epoch 2/10\n",
      "60000/60000 [==============================] - 15s - loss: 3.5299 - acc: 0.7750 - val_loss: 1.7982 - val_acc: 0.8860\n",
      "Epoch 3/10\n",
      "60000/60000 [==============================] - 15s - loss: 2.5889 - acc: 0.8364 - val_loss: 1.5099 - val_acc: 0.9049\n",
      "Epoch 4/10\n",
      "60000/60000 [==============================] - 16s - loss: 2.5469 - acc: 0.8399 - val_loss: 1.4928 - val_acc: 0.9060\n",
      "Epoch 5/10\n",
      "60000/60000 [==============================] - 16s - loss: 2.7663 - acc: 0.8273 - val_loss: 2.0649 - val_acc: 0.8710\n",
      "Epoch 6/10\n",
      "60000/60000 [==============================] - 17s - loss: 3.2433 - acc: 0.7977 - val_loss: 2.1519 - val_acc: 0.8660\n",
      "Epoch 7/10\n",
      "60000/60000 [==============================] - 16s - loss: 3.2442 - acc: 0.7981 - val_loss: 2.2909 - val_acc: 0.8570\n",
      "Epoch 8/10\n",
      "60000/60000 [==============================] - 14s - loss: 3.2237 - acc: 0.7995 - val_loss: 1.7660 - val_acc: 0.8903\n",
      "Epoch 9/10\n",
      "60000/60000 [==============================] - 14s - loss: 3.6190 - acc: 0.7751 - val_loss: 1.7171 - val_acc: 0.8933\n",
      "Epoch 10/10\n",
      "60000/60000 [==============================] - 15s - loss: 4.5283 - acc: 0.7187 - val_loss: 7.5625 - val_acc: 0.5306\n"
     ]
    }
   ],
   "source": [
    "batch_size = 128\n",
    "simpleModel = getSimpleModel()\n",
    "learnHistSimple = simpleModel.fit(x_train,oneHotLabelTrain,validation_data=(x_test,oneHotLabelTest),\n",
    "                                  batch_size=batch_size,\n",
    "                                  epochs=10)\n",
    "cnnModel = getCNNModel()\n",
    "learnHistCNN    = cnnModel.fit(x_train,oneHotLabelTrain,validation_data=(x_test,oneHotLabelTest),\n",
    "                                  batch_size=batch_size,\n",
    "                                  epochs=10)"
   ]
  },
  {
   "cell_type": "code",
   "execution_count": 19,
   "metadata": {},
   "outputs": [
    {
     "name": "stdout",
     "output_type": "stream",
     "text": [
      "{'val_loss': [10.165841923522949, 8.9484768737792972, 7.7265671630859378, 8.8876604003906259, 8.4924159248352051, 7.8536785530090336, 7.5133672431945797, 7.4152666931152345, 7.7290151306152346, 8.0226354614257804], 'loss': [10.960649611409504, 9.5791019770304366, 9.1016060984293627, 8.4316896458943678, 8.5808642639160162, 8.873576729329427, 8.404466668701172, 7.7948286499023434, 7.8939134445190433, 7.753490309143066], 'val_acc': [0.36849999999999999, 0.4446, 0.5202, 0.4476, 0.47299999999999998, 0.51239999999999997, 0.53369999999999995, 0.53990000000000005, 0.52000000000000002, 0.50190000000000001], 'acc': [0.31878333334922793, 0.40504999999205271, 0.43470000003178916, 0.47594999999999998, 0.46731666663487753, 0.44918333334922789, 0.47809999996821084, 0.51608333330154421, 0.50978333331743875, 0.51856666665077211]}\n",
      "{'val_loss': [5.433027980041504, 1.7982489078521728, 1.5098832149505614, 1.4928376655578612, 2.0649414991378783, 2.1519334468841551, 2.2909077377319336, 1.765976700592041, 1.7171139682769776, 7.5625238777160648], 'loss': [9.0770181678771973, 3.5299075508117674, 2.5888575506846112, 2.5468904201507567, 2.7662826723734537, 3.2433492237091066, 3.2441578845977785, 3.2236530681610107, 3.618962044906616, 4.528251367696126], 'val_acc': [0.65649999999999997, 0.88600000000000001, 0.90490000000000004, 0.90600000000000003, 0.871, 0.86599999999999999, 0.85699999999999998, 0.89029999999999998, 0.89329999999999998, 0.53059999999999996], 'acc': [0.43168333336512249, 0.77504999996821089, 0.83643333336512249, 0.83988333333333332, 0.82726666663487747, 0.79769999999999996, 0.79810000003178916, 0.7994833333015442, 0.77511666663487755, 0.71873333333333334]}\n",
      "(10,)\n",
      "(10,)\n"
     ]
    }
   ],
   "source": [
    "numEpochs=10\n",
    "print(learnHistSimple.history)\n",
    "print(learnHistCNN.history)\n",
    "print(np.arange(1,numEpochs+1,1).shape)\n",
    "print(np.array(learnHistSimple.history['loss']).shape)"
   ]
  },
  {
   "cell_type": "markdown",
   "metadata": {},
   "source": [
    "<b>Exercise 3:</b>  \n",
    "Plot the learning curves for the two neural nets, showing the training and testing loss over the number of epochs. What are the learning curves telling you?"
   ]
  },
  {
   "cell_type": "code",
   "execution_count": 30,
   "metadata": {},
   "outputs": [
    {
     "name": "stdout",
     "output_type": "stream",
     "text": [
      "Loss\n"
     ]
    },
    {
     "data": {
      "image/png": "[encoded data removed]",
      "text/plain": [
       "<matplotlib.figure.Figure at 0x7f3a13100be0>"
      ]
     },
     "metadata": {},
     "output_type": "display_data"
    },
    {
     "name": "stdout",
     "output_type": "stream",
     "text": [
      "Validation Loss\n"
     ]
    },
    {
     "data": {
      "image/png": "[encoded data removed]",
      "text/plain": [
       "<matplotlib.figure.Figure at 0x7f3a13137400>"
      ]
     },
     "metadata": {},
     "output_type": "display_data"
    }
   ],
   "source": [
    "print(\"Loss\")\n",
    "plt.plot(learnHistSimple.history['loss'], color='green')\n",
    "plt.plot(learnHistCNN.history['loss'], color='red')\n",
    "plt.ylim([0, 10])\n",
    "plt.show()\n",
    "print(\"Validation Loss\")\n",
    "plt.plot(learnHistSimple.history['val_loss'], color='green')\n",
    "plt.plot(learnHistCNN.history['val_loss'], color='red')\n",
    "plt.ylim([0, 10])\n",
    "plt.show()"
   ]
  },
  {
   "cell_type": "markdown",
   "metadata": {},
   "source": [
    "So the results for the neural net (simple model) are much worse than the results for the CNN.\n",
    "\n",
    "<b>Excercise 4:</b>\n",
    "\n",
    "Normalize the input data so that all values are between 0 and 1. After that, retrain the simple model. Are the results better? Can you explain the results?"
   ]
  },
  {
   "cell_type": "code",
   "execution_count": 31,
   "metadata": {
    "scrolled": false
   },
   "outputs": [
    {
     "name": "stdout",
     "output_type": "stream",
     "text": [
      "Train on 60000 samples, validate on 10000 samples\n",
      "Epoch 1/10\n",
      "60000/60000 [==============================] - 2s - loss: 1.1141 - acc: 0.7322 - val_loss: 0.5956 - val_acc: 0.8675\n",
      "Epoch 2/10\n",
      "60000/60000 [==============================] - 2s - loss: 0.5447 - acc: 0.8599 - val_loss: 0.4311 - val_acc: 0.8916\n",
      "Epoch 3/10\n",
      "60000/60000 [==============================] - 2s - loss: 0.4433 - acc: 0.8804 - val_loss: 0.3710 - val_acc: 0.9011\n",
      "Epoch 4/10\n",
      "60000/60000 [==============================] - 2s - loss: 0.3951 - acc: 0.8921 - val_loss: 0.3377 - val_acc: 0.9089\n",
      "Epoch 5/10\n",
      "60000/60000 [==============================] - 2s - loss: 0.3656 - acc: 0.8978 - val_loss: 0.3150 - val_acc: 0.9141\n",
      "Epoch 6/10\n",
      "60000/60000 [==============================] - 2s - loss: 0.3419 - acc: 0.9042 - val_loss: 0.2984 - val_acc: 0.9188\n",
      "Epoch 7/10\n",
      "60000/60000 [==============================] - 2s - loss: 0.3271 - acc: 0.9078 - val_loss: 0.2855 - val_acc: 0.9215\n",
      "Epoch 8/10\n",
      "60000/60000 [==============================] - 2s - loss: 0.3109 - acc: 0.9126 - val_loss: 0.2738 - val_acc: 0.9241\n",
      "Epoch 9/10\n",
      "60000/60000 [==============================] - 2s - loss: 0.2989 - acc: 0.9159 - val_loss: 0.2646 - val_acc: 0.9277\n",
      "Epoch 10/10\n",
      "60000/60000 [==============================] - 2s - loss: 0.2876 - acc: 0.9194 - val_loss: 0.2558 - val_acc: 0.9301\n",
      "Loss\n"
     ]
    },
    {
     "data": {
      "image/png": "[encoded data removed]",
      "text/plain": [
       "<matplotlib.figure.Figure at 0x7f3a25a57f28>"
      ]
     },
     "metadata": {},
     "output_type": "display_data"
    },
    {
     "name": "stdout",
     "output_type": "stream",
     "text": [
      "Validation Loss\n"
     ]
    },
    {
     "data": {
      "image/png": "[encoded data removed]",
      "text/plain": [
       "<matplotlib.figure.Figure at 0x7f3a13139c88>"
      ]
     },
     "metadata": {},
     "output_type": "display_data"
    }
   ],
   "source": [
    "x_train_rescaled = x_train / 255\n",
    "x_test_rescaled = x_test / 255\n",
    "\n",
    "# retrain model\n",
    "batch_size = 128\n",
    "simpleModel = getSimpleModel()\n",
    "learnHistSimple = simpleModel.fit(x_train_rescaled,oneHotLabelTrain,validation_data=(x_test_rescaled,oneHotLabelTest),\n",
    "                                  batch_size=batch_size,\n",
    "                                  epochs=10)\n",
    "print(\"Loss\")\n",
    "plt.plot(learnHistSimple.history['loss'], color='green')\n",
    "plt.ylim([0, 10])\n",
    "plt.show()\n",
    "print(\"Validation Loss\")\n",
    "plt.plot(learnHistSimple.history['val_loss'], color='green')\n",
    "plt.ylim([0, 10])\n",
    "plt.show()"
   ]
  },
  {
   "cell_type": "markdown",
   "metadata": {},
   "source": [
    "<b>Excercise 5:</b>\n",
    "    \n",
    "Write a function that randomly places the digits from the input data on a 2-dimensional image of size 28x28. Do this by firstly resizing the image to the size 14x14 and than placing this digit on a grid of 28x28. After that the data set should look like shown in the image above.\n",
    "\n",
    "<img src=\"files/non-centered.png\",width=600,height=600>\n",
    "\n",
    "<b>Hint</b>: Maybe the function cv2.resize(...) could be helpful."
   ]
  },
  {
   "cell_type": "code",
   "execution_count": 67,
   "metadata": {},
   "outputs": [
    {
     "data": {
      "text/plain": [
       "<matplotlib.image.AxesImage at 0x7f3a1cc1ae80>"
      ]
     },
     "execution_count": 67,
     "metadata": {},
     "output_type": "execute_result"
    },
    {
     "data": {
      "image/png": "[encoded data removed]",
      "text/plain": [
       "<matplotlib.figure.Figure at 0x7f3a1cd00d30>"
      ]
     },
     "metadata": {},
     "output_type": "display_data"
    }
   ],
   "source": [
    "from random import randint\n",
    "def add_random_noise(inputData):\n",
    "    out_data = np.zeros(inputData.shape)\n",
    "    for index, image in enumerate(inputData):\n",
    "        small_img = cv2.resize(image, (14, 14))\n",
    "        offset_x, offset_y = randint(0, 14), randint(0, 14)\n",
    "        out_data[index, offset_x:offset_x+14, offset_y:offset_y+14, 0] = small_img\n",
    "    return out_data\n",
    "\n",
    "plt.imshow(add_random_noise(x_test_rescaled)[0, :, :, 0])"
   ]
  },
  {
   "cell_type": "markdown",
   "metadata": {},
   "source": [
    "Now we can have a look at the new data set of non-centered digits."
   ]
  },
  {
   "cell_type": "code",
   "execution_count": 68,
   "metadata": {},
   "outputs": [
    {
     "data": {
      "image/png": "[encoded data removed]",
      "text/plain": [
       "<matplotlib.figure.Figure at 0x7f3a1cd00cc0>"
      ]
     },
     "metadata": {},
     "output_type": "display_data"
    }
   ],
   "source": [
    "x_train_non_centered = add_random_noise(x_train)\n",
    "x_test_non_centered = add_random_noise(x_test)\n",
    "\n",
    "for i in range(50):\n",
    "    image = x_train_non_centered[i]\n",
    "    image = image.reshape([img_rows,img_cols])\n",
    "    label = y_train[i]\n",
    "    plt.subplot(5, 10, i + 1)\n",
    "    plt.axis('off')\n",
    "    plt.imshow(image, cmap=plt.cm.gray_r, interpolation='nearest')\n",
    "    plt.title(label)\n",
    "plt.show()\n",
    "\n",
    "\n",
    "# scale data\n",
    "x_train_non_centered /= 255.\n",
    "x_test_non_centered /= 255.\n",
    "\n",
    "if K.image_data_format() == 'channels_first':\n",
    "    x_train_non_centered = x_train_non_centered.reshape(x_train_non_centered.shape[0], 1, img_rows, img_cols)\n",
    "    x_test_non_centered = x_test_non_centered.reshape(x_test_non_centered.shape[0], 1, img_rows, img_cols)\n",
    "    input_shape = (1, img_rows, img_cols)\n",
    "else:\n",
    "    x_train_non_centered = x_train_non_centered.reshape(x_train_non_centered.shape[0], img_rows, img_cols, 1)\n",
    "    x_test_non_centered = x_test_non_centered.reshape(x_test_non_centered.shape[0], img_rows, img_cols, 1)\n",
    "    input_shape = (img_rows, img_cols, 1)\n"
   ]
  },
  {
   "cell_type": "markdown",
   "metadata": {},
   "source": [
    "<b>Excercise 6:</b>\n",
    "    \n",
    "Train the simple nn and the cnn on this new data set for 10 epochs and compare the trainng and testing results with each other. What conclusions can you draw?"
   ]
  },
  {
   "cell_type": "code",
   "execution_count": 70,
   "metadata": {},
   "outputs": [
    {
     "name": "stdout",
     "output_type": "stream",
     "text": [
      "Train on 60000 samples, validate on 10000 samples\n",
      "Epoch 1/10\n",
      "60000/60000 [==============================] - 2s - loss: 2.2957 - acc: 0.1209 - val_loss: 2.2801 - val_acc: 0.1468\n",
      "Epoch 2/10\n",
      "60000/60000 [==============================] - 2s - loss: 2.2722 - acc: 0.1550 - val_loss: 2.2580 - val_acc: 0.1877\n",
      "Epoch 3/10\n",
      "60000/60000 [==============================] - 2s - loss: 2.2493 - acc: 0.1917 - val_loss: 2.2359 - val_acc: 0.2156\n",
      "Epoch 4/10\n",
      "60000/60000 [==============================] - 2s - loss: 2.2257 - acc: 0.2190 - val_loss: 2.2132 - val_acc: 0.2370\n",
      "Epoch 5/10\n",
      "60000/60000 [==============================] - 2s - loss: 2.2027 - acc: 0.2382 - val_loss: 2.1889 - val_acc: 0.2547\n",
      "Epoch 6/10\n",
      "60000/60000 [==============================] - 2s - loss: 2.1768 - acc: 0.2529 - val_loss: 2.1635 - val_acc: 0.2651\n",
      "Epoch 7/10\n",
      "60000/60000 [==============================] - 2s - loss: 2.1518 - acc: 0.2634 - val_loss: 2.1372 - val_acc: 0.2746\n",
      "Epoch 8/10\n",
      "60000/60000 [==============================] - 2s - loss: 2.1246 - acc: 0.2721 - val_loss: 2.1105 - val_acc: 0.2837\n",
      "Epoch 9/10\n",
      "60000/60000 [==============================] - 2s - loss: 2.0983 - acc: 0.2788 - val_loss: 2.0840 - val_acc: 0.2936\n",
      "Epoch 10/10\n",
      "60000/60000 [==============================] - 2s - loss: 2.0723 - acc: 0.2855 - val_loss: 2.0582 - val_acc: 0.3004\n",
      "Train on 60000 samples, validate on 10000 samples\n",
      "Epoch 1/10\n",
      "60000/60000 [==============================] - 15s - loss: 2.2962 - acc: 0.1178 - val_loss: 2.2827 - val_acc: 0.1904\n",
      "Epoch 2/10\n",
      "60000/60000 [==============================] - 15s - loss: 2.2724 - acc: 0.1723 - val_loss: 2.2431 - val_acc: 0.2194\n",
      "Epoch 3/10\n",
      "60000/60000 [==============================] - 15s - loss: 2.2224 - acc: 0.1968 - val_loss: 2.1628 - val_acc: 0.2339\n",
      "Epoch 4/10\n",
      "60000/60000 [==============================] - 15s - loss: 2.1532 - acc: 0.2157 - val_loss: 2.0790 - val_acc: 0.2522\n",
      "Epoch 5/10\n",
      "60000/60000 [==============================] - 15s - loss: 2.0954 - acc: 0.2348 - val_loss: 2.0204 - val_acc: 0.2789\n",
      "Epoch 6/10\n",
      "60000/60000 [==============================] - 15s - loss: 2.0527 - acc: 0.2471 - val_loss: 1.9771 - val_acc: 0.2992\n",
      "Epoch 7/10\n",
      "60000/60000 [==============================] - 15s - loss: 2.0155 - acc: 0.2647 - val_loss: 1.9351 - val_acc: 0.3274\n",
      "Epoch 8/10\n",
      "60000/60000 [==============================] - 15s - loss: 1.9758 - acc: 0.2817 - val_loss: 1.8853 - val_acc: 0.3620\n",
      "Epoch 9/10\n",
      "60000/60000 [==============================] - 15s - loss: 1.9331 - acc: 0.3028 - val_loss: 1.8279 - val_acc: 0.3853\n",
      "Epoch 10/10\n",
      "60000/60000 [==============================] - 15s - loss: 1.8847 - acc: 0.3240 - val_loss: 1.7668 - val_acc: 0.4162\n",
      "Loss\n"
     ]
    },
    {
     "data": {
      "image/png": "[encoded data removed]",
      "text/plain": [
       "<matplotlib.figure.Figure at 0x7f3a1c0a2550>"
      ]
     },
     "metadata": {},
     "output_type": "display_data"
    },
    {
     "name": "stdout",
     "output_type": "stream",
     "text": [
      "Validation Loss\n"
     ]
    },
    {
     "data": {
      "image/png": "[encoded data removed]",
      "text/plain": [
       "<matplotlib.figure.Figure at 0x7f3a1cdf5748>"
      ]
     },
     "metadata": {},
     "output_type": "display_data"
    }
   ],
   "source": [
    "batch_size = 128\n",
    "simpleModel = getSimpleModel()\n",
    "cnnModel = getCNNModel()\n",
    "\n",
    "learnHistSimple = simpleModel.fit(x_train_non_centered,oneHotLabelTrain,validation_data=(x_test_non_centered,oneHotLabelTest),\n",
    "                                  batch_size=batch_size,\n",
    "                                  epochs=10)\n",
    "learnHistCNN    = cnnModel.fit(x_train_non_centered,oneHotLabelTrain,validation_data=(x_test_non_centered,oneHotLabelTest),\n",
    "                                  batch_size=batch_size,\n",
    "                                  epochs=10)\n",
    "\n",
    "print(\"Loss\")\n",
    "plt.plot(learnHistSimple.history['loss'], color='green')\n",
    "plt.plot(learnHistCNN.history['loss'], color='red')\n",
    "plt.ylim([0, 10])\n",
    "plt.show()\n",
    "print(\"Validation Loss\")\n",
    "plt.plot(learnHistSimple.history['val_loss'], color='green')\n",
    "plt.plot(learnHistCNN.history['val_loss'], color='red')\n",
    "plt.ylim([0, 10])\n",
    "plt.show()"
   ]
  },
  {
   "cell_type": "markdown",
   "metadata": {},
   "source": [
    "<b>Additional Excercise</b>\n",
    "\n",
    "Try to build a model that is able to get better classification results on the non-centered data set."
   ]
  },
  {
   "cell_type": "code",
   "execution_count": 73,
   "metadata": {},
   "outputs": [
    {
     "name": "stdout",
     "output_type": "stream",
     "text": [
      "Train on 60000 samples, validate on 10000 samples\n",
      "Epoch 1/20\n",
      "60000/60000 [==============================] - 20s - loss: 2.3031 - acc: 0.1130 - val_loss: 2.2962 - val_acc: 0.1679\n",
      "Epoch 2/20\n",
      "60000/60000 [==============================] - 19s - loss: 2.2958 - acc: 0.1372 - val_loss: 2.2898 - val_acc: 0.1861\n",
      "Epoch 3/20\n",
      "60000/60000 [==============================] - 19s - loss: 2.2891 - acc: 0.1548 - val_loss: 2.2792 - val_acc: 0.1977\n",
      "Epoch 4/20\n",
      "60000/60000 [==============================] - 20s - loss: 2.2775 - acc: 0.1681 - val_loss: 2.2597 - val_acc: 0.1970\n",
      "Epoch 5/20\n",
      "60000/60000 [==============================] - 20s - loss: 2.2537 - acc: 0.1818 - val_loss: 2.2180 - val_acc: 0.2111\n",
      "Epoch 6/20\n",
      "60000/60000 [==============================] - 20s - loss: 2.2080 - acc: 0.1938 - val_loss: 2.1423 - val_acc: 0.2282\n",
      "Epoch 7/20\n",
      "60000/60000 [==============================] - 20s - loss: 2.1375 - acc: 0.2113 - val_loss: 2.0432 - val_acc: 0.2570\n",
      "Epoch 8/20\n",
      "60000/60000 [==============================] - 19s - loss: 2.0554 - acc: 0.2323 - val_loss: 1.9434 - val_acc: 0.2961\n",
      "Epoch 9/20\n",
      "60000/60000 [==============================] - 19s - loss: 1.9770 - acc: 0.2572 - val_loss: 1.8487 - val_acc: 0.3474\n",
      "Epoch 10/20\n",
      "60000/60000 [==============================] - 22s - loss: 1.9012 - acc: 0.2833 - val_loss: 1.7505 - val_acc: 0.4077\n",
      "Epoch 11/20\n",
      "60000/60000 [==============================] - 20s - loss: 1.8302 - acc: 0.3119 - val_loss: 1.6575 - val_acc: 0.4480\n",
      "Epoch 12/20\n",
      "60000/60000 [==============================] - 18s - loss: 1.7569 - acc: 0.3426 - val_loss: 1.5579 - val_acc: 0.4978\n",
      "Epoch 13/20\n",
      "60000/60000 [==============================] - 19s - loss: 1.6785 - acc: 0.3767 - val_loss: 1.4618 - val_acc: 0.5392\n",
      "Epoch 14/20\n",
      "60000/60000 [==============================] - 22s - loss: 1.6051 - acc: 0.4082 - val_loss: 1.3715 - val_acc: 0.5897\n",
      "Epoch 15/20\n",
      "60000/60000 [==============================] - 24s - loss: 1.5352 - acc: 0.4388 - val_loss: 1.2835 - val_acc: 0.6212\n",
      "Epoch 16/20\n",
      "60000/60000 [==============================] - 19s - loss: 1.4657 - acc: 0.4691 - val_loss: 1.2000 - val_acc: 0.6438\n",
      "Epoch 17/20\n",
      "60000/60000 [==============================] - 19s - loss: 1.4035 - acc: 0.4938 - val_loss: 1.1191 - val_acc: 0.6914\n",
      "Epoch 18/20\n",
      "60000/60000 [==============================] - 18s - loss: 1.3425 - acc: 0.5230 - val_loss: 1.0542 - val_acc: 0.6991\n",
      "Epoch 19/20\n",
      "60000/60000 [==============================] - 18s - loss: 1.2852 - acc: 0.5439 - val_loss: 0.9736 - val_acc: 0.7460\n",
      "Epoch 20/20\n",
      "60000/60000 [==============================] - 18s - loss: 1.2220 - acc: 0.5727 - val_loss: 0.9037 - val_acc: 0.7636\n"
     ]
    }
   ],
   "source": [
    "def getBiggerCNNModel():\n",
    "    nb_filters_one = 32\n",
    "    nb_filters_two = 64\n",
    "    nb_conv = 3\n",
    "    nb_pool = 2\n",
    "    dense_size = 128\n",
    "    cnnModel = Sequential()\n",
    "    cnnModel.add(Conv2D(nb_filters_one, kernel_size=(nb_conv, nb_conv),\n",
    "                     activation='relu',\n",
    "                     input_shape=input_shape))\n",
    "    cnnModel.add(MaxPooling2D(pool_size=(nb_pool, nb_pool)))\n",
    "    cnnModel.add(Dropout(0.25))\n",
    "    cnnModel.add(Conv2D(nb_filters_one, kernel_size=(nb_conv, nb_conv), activation='relu'))\n",
    "    cnnModel.add(MaxPooling2D(pool_size=(nb_pool, nb_pool)))\n",
    "    cnnModel.add(Dropout(0.25))\n",
    "    cnnModel.add(Flatten())\n",
    "    cnnModel.add(Dense(dense_size, activation='relu'))\n",
    "    cnnModel.add(Dropout(0.5))\n",
    "    cnnModel.add(Dense(nb_classes, activation='softmax'))\n",
    "\n",
    "    cnnModel.compile(loss='categorical_crossentropy', optimizer='SGD', metrics=['accuracy'])\n",
    "    return cnnModel\n",
    "\n",
    "batch_size = 128\n",
    "cnnBigModel = getBiggerCNNModel()\n",
    "\n",
    "learnHistBigCNN    = cnnBigModel.fit(x_train_non_centered,oneHotLabelTrain,validation_data=(x_test_non_centered,oneHotLabelTest),\n",
    "                                  batch_size=batch_size,\n",
    "                                  epochs=20)"
   ]
  },
  {
   "cell_type": "code",
   "execution_count": 74,
   "metadata": {},
   "outputs": [
    {
     "name": "stdout",
     "output_type": "stream",
     "text": [
      "Loss\n"
     ]
    },
    {
     "data": {
      "image/png": "[encoded data removed]",
      "text/plain": [
       "<matplotlib.figure.Figure at 0x7f3a1c54bc50>"
      ]
     },
     "metadata": {},
     "output_type": "display_data"
    },
    {
     "name": "stdout",
     "output_type": "stream",
     "text": [
      "Validation Loss\n"
     ]
    },
    {
     "data": {
      "image/png": "[encoded data removed]",
      "text/plain": [
       "<matplotlib.figure.Figure at 0x7f3a8fdd1f28>"
      ]
     },
     "metadata": {},
     "output_type": "display_data"
    }
   ],
   "source": [
    "print(\"Loss\")\n",
    "plt.plot(learnHistSimple.history['loss'], color='green')\n",
    "plt.plot(learnHistCNN.history['loss'], color='red')\n",
    "plt.plot(learnHistBigCNN.history['loss'], color='blue')\n",
    "plt.show()\n",
    "print(\"Validation Loss\")\n",
    "plt.plot(learnHistSimple.history['val_loss'], color='green')\n",
    "plt.plot(learnHistCNN.history['val_loss'], color='red')\n",
    "plt.plot(learnHistBigCNN.history['val_loss'], color='blue')\n",
    "plt.show()"
   ]
  },
  {
   "cell_type": "code",
   "execution_count": null,
   "metadata": {
    "collapsed": true
   },
   "outputs": [],
   "source": []
  }
 ],
 "metadata": {
  "anaconda-cloud": {},
  "kernelspec": {
   "display_name": "Python 3",
   "language": "python",
   "name": "python3"
  },
  "language_info": {
   "codemirror_mode": {
    "name": "ipython",
    "version": 3
   },
   "file_extension": ".py",
   "mimetype": "text/x-python",
   "name": "python",
   "nbconvert_exporter": "python",
   "pygments_lexer": "ipython3",
   "version": "3.5.2"
  }
 },
 "nbformat": 4,
 "nbformat_minor": 1
}
