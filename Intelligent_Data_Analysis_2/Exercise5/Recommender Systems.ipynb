{
 "cells": [
  {
   "cell_type": "markdown",
   "metadata": {},
   "source": [
    "# Recommendation Systems"
   ]
  },
  {
   "cell_type": "markdown",
   "metadata": {},
   "source": [
    "## 1. Introduction and Data\n",
    "\n",
    "In this lab we are going to take a look at one of the <a href=\"http://grouplens.org/datasets/movielens/\">MovieLens</a> data sets, more precisely the smallest one (<a href=\"http://files.grouplens.org/datasets/movielens/ml-100k.zip\">ml-100k.zip</a>). Our data set includes 100,000 ratings of ~1.700 movies from ~1.000 users.\n",
    "\n",
    "We start by reading the data into a <a href=\"http://pandas.pydata.org/pandas-docs/stable/generated/pandas.DataFrame.html\">Pandas data frame</a>. This allows us to asses the quality of the data set and gain first insights. Once we have established a fundamental understanding we proceed by building a simple recommendation system for movies."
   ]
  },
  {
   "cell_type": "code",
   "execution_count": 1,
   "metadata": {
    "collapsed": true
   },
   "outputs": [],
   "source": [
    "import os\n",
    "\n",
    "data_path = '.' + os.sep + 'ml-100k'"
   ]
  },
  {
   "cell_type": "markdown",
   "metadata": {},
   "source": [
    "The files we have got the following documentation. Note that we are just using 'u.data' and 'u.item', while throwing away some meta data.\n",
    "\n",
    "<i>\n",
    "<hr />\n",
    "u.data     -- The full u data set, 100000 ratings by 943 users on 1682 items.\n",
    "              Each user has rated at least 20 movies.  Users and items are\n",
    "              numbered consecutively from 1.  The data is randomly\n",
    "              ordered. This is a tab separated list of \n",
    "\t         user id | item id | rating | timestamp. \n",
    "              The time stamps are unix seconds since 1/1/1970 UTC <br />\n",
    "\n",
    "u.info     -- The number of users, items, and ratings in the u data set. <br />\n",
    "\n",
    "u.item     -- Information about the items (movies); this is a tab separated\n",
    "              list of\n",
    "              movie id | movie title | release date | video release date |\n",
    "              IMDb URL | unknown | Action | Adventure | Animation |\n",
    "              Children's | Comedy | Crime | Documentary | Drama | Fantasy |\n",
    "              Film-Noir | Horror | Musical | Mystery | Romance | Sci-Fi |\n",
    "              Thriller | War | Western |\n",
    "              The last 19 fields are the genres, a 1 indicates the movie\n",
    "              is of that genre, a 0 indicates it is not; movies can be in\n",
    "              several genres at once.\n",
    "              The movie ids are the ones used in the u.data data set. <br />\n",
    "\n",
    "u.genre    -- A list of the genres. <br />\n",
    "\n",
    "u.user     -- Demographic information about the users; this is a tab <br />\n",
    "              separated list of\n",
    "              user id | age | gender | occupation | zip code\n",
    "              The user ids are the ones used in the u.data data set.\n",
    "</i>\n",
    "<hr />\n",
    "\n",
    "So let's read our data."
   ]
  },
  {
   "cell_type": "code",
   "execution_count": 2,
   "metadata": {},
   "outputs": [
    {
     "name": "stdout",
     "output_type": "stream",
     "text": [
      "100000 data points were loaded.\n"
     ]
    }
   ],
   "source": [
    "import pandas as pd\n",
    "\n",
    "\n",
    "movies = pd.read_csv(os.path.join(data_path, 'u.item'),\n",
    "                     index_col=0,\n",
    "                     sep='|', \n",
    "                     header=None, \n",
    "                     usecols=[0,1,2],\n",
    "                     names=['movie_id', 'name', 'release_year'])\n",
    "movies['release_year'] = movies['release_year'].apply(lambda s: None if pd.isnull(s) else int(s.split('-')[2]))\n",
    "\n",
    "ratings = pd.read_csv(os.path.join(data_path, 'u.data'), \n",
    "                      sep='\\t',\n",
    "                      header=None,\n",
    "                      usecols=[0,1,2],\n",
    "                      names=['movie_id', 'user_id', 'rating'])\n",
    "ratings = ratings.merge(movies, 'left', left_on='movie_id', right_index=True)\n",
    "\n",
    "print(\"{} data points were loaded.\".format(len(ratings)))"
   ]
  },
  {
   "cell_type": "markdown",
   "metadata": {},
   "source": [
    "Pandas' data frames can sliced like Python's lists. For instance, to obtain the first 10 entries of a data frame df it can be written df[0:10] or df.head(10). Pandas supports basic descriptive statistics via the 'describe' method."
   ]
  },
  {
   "cell_type": "code",
   "execution_count": 3,
   "metadata": {},
   "outputs": [
    {
     "name": "stdout",
     "output_type": "stream",
     "text": [
      "   movie_id  user_id  rating  \\\n",
      "0       196      242       3   \n",
      "1       186      302       3   \n",
      "2        22      377       1   \n",
      "3       244       51       2   \n",
      "4       166      346       1   \n",
      "5       298      474       4   \n",
      "6       115      265       2   \n",
      "7       253      465       5   \n",
      "8       305      451       3   \n",
      "9         6       86       3   \n",
      "\n",
      "                                                name  release_year  \n",
      "0                          Dead Poets Society (1989)        1989.0  \n",
      "1                         Blues Brothers, The (1980)        1980.0  \n",
      "2                                  Braveheart (1995)        1996.0  \n",
      "3                      Smilla's Sense of Snow (1997)        1997.0  \n",
      "4     Manon of the Spring (Manon des sources) (1986)        1986.0  \n",
      "5                                    Face/Off (1997)        1997.0  \n",
      "6    Haunted World of Edward D. Wood Jr., The (1995)        1996.0  \n",
      "7                            Pillow Book, The (1995)        1997.0  \n",
      "8                              Ice Storm, The (1997)        1997.0  \n",
      "9  Shanghai Triad (Yao a yao yao dao waipo qiao) ...        1995.0  \n",
      "mean    3.529860\n",
      "std     1.125674\n",
      "min     1.000000\n",
      "25%     3.000000\n",
      "50%     4.000000\n",
      "75%     4.000000\n",
      "max     5.000000\n",
      "Name: rating, dtype: float64\n"
     ]
    }
   ],
   "source": [
    "print ratings.head(10)\n",
    "print ratings.describe().rating[1:]"
   ]
  },
  {
   "cell_type": "markdown",
   "metadata": {},
   "source": [
    "Also advanced methods of selection are available. The following method gives an example of selecting all pairs of movies and ratings a specific user has done."
   ]
  },
  {
   "cell_type": "code",
   "execution_count": 4,
   "metadata": {},
   "outputs": [
    {
     "name": "stdout",
     "output_type": "stream",
     "text": [
      "      movie_id                                         name  rating\n",
      "0          196                    Dead Poets Society (1989)       3\n",
      "253         63                     Santa Clause, The (1994)       3\n",
      "629        226                            Die Hard 2 (1990)       5\n",
      "1232       154          Monty Python's Life of Brian (1979)       3\n",
      "2159       306  Mrs. Brown (Her Majesty, Mrs. Brown) (1997)       5\n",
      "2335       296                          Promesse, La (1996)       4\n",
      "2600        34                  Doom Generation, The (1995)       5\n",
      "3484       271                     Starship Troopers (1997)       4\n",
      "4082       201                          Evil Dead II (1987)       4\n",
      "5548       209                    This Is Spinal Tap (1984)       4\n"
     ]
    }
   ],
   "source": [
    "def rated_movies_by_user(user_id):\n",
    "    return ratings[ratings['user_id'] == user_id][['movie_id', 'name', 'rating']]\n",
    "    \n",
    "print rated_movies_by_user(242)[:10]"
   ]
  },
  {
   "cell_type": "markdown",
   "metadata": {},
   "source": [
    "Pandas supports some plotting capabilities out of the box (that, for instance, uses matplotlib)."
   ]
  },
  {
   "cell_type": "code",
   "execution_count": 5,
   "metadata": {},
   "outputs": [
    {
     "data": {
      "image/png": "[encoded data removed]",
      "text/plain": [
       "<matplotlib.figure.Figure at 0x7fa4f6d4c550>"
      ]
     },
     "metadata": {},
     "output_type": "display_data"
    },
    {
     "data": {
      "image/png": "[encoded data removed]",
      "text/plain": [
       "<matplotlib.figure.Figure at 0x7fa4f3407510>"
      ]
     },
     "metadata": {},
     "output_type": "display_data"
    }
   ],
   "source": [
    "%matplotlib inline\n",
    "import matplotlib.pyplot as plt\n",
    "\n",
    "ratings.hist(bins=5, grid=False, column='rating', ec='k')\n",
    "plt.xlim(1, 5)\n",
    "plt.xlabel('Rating')\n",
    "plt.ylabel('#Votes')\n",
    "plt.title('Distribution of ratings')\n",
    "plt.xticks([1, 2, 3, 4, 5])\n",
    "plt.show()\n",
    "\n",
    "ratings.groupby('user_id')['rating'].count().hist(grid=False, ec='k')\n",
    "plt.xlabel('Number of ratings')\n",
    "plt.ylabel('#Users')\n",
    "plt.title('Number of users with a given rating density')\n",
    "plt.show()"
   ]
  },
  {
   "cell_type": "markdown",
   "metadata": {},
   "source": [
    "#### Exercise 1.1\n",
    "How is the distribution of the movies' release dates? What is the implication for the recommendation system? Could this data set be used to engineer a recommender for \"film classics\"?"
   ]
  },
  {
   "cell_type": "code",
   "execution_count": 50,
   "metadata": {
    "scrolled": false
   },
   "outputs": [
    {
     "data": {
      "image/png": "[encoded data removed]",
      "text/plain": [
       "<matplotlib.figure.Figure at 0x7fa4ee90fd50>"
      ]
     },
     "metadata": {},
     "output_type": "display_data"
    }
   ],
   "source": [
    "plt.plot(ratings.groupby('release_year').count()['movie_id'], 'r+')\n",
    "plt.xlabel('Year')\n",
    "plt.ylabel('#Movies')\n",
    "plt.title('Distribution of Movie Release Dates')\n",
    "plt.show()"
   ]
  },
  {
   "cell_type": "markdown",
   "metadata": {},
   "source": [
    "It will most likely be difficult for the system to recommend classic movies since there is only few data about old movies as the majority of available films was recorded after 1994."
   ]
  },
  {
   "cell_type": "markdown",
   "metadata": {},
   "source": [
    "#### Exercise 1.2\n",
    "Do the scoring behavior differ among users? Is this problematic for the recommendation system?"
   ]
  },
  {
   "cell_type": "code",
   "execution_count": 73,
   "metadata": {},
   "outputs": [
    {
     "data": {
      "image/png": "[encoded data removed]",
      "text/plain": [
       "<matplotlib.figure.Figure at 0x7fa4edc3fb90>"
      ]
     },
     "metadata": {},
     "output_type": "display_data"
    }
   ],
   "source": [
    "ratings.groupby('user_id').mean()['rating'].hist(grid=False, ec='k', bins=100)\n",
    "plt.xlabel('Average Rating')\n",
    "plt.ylabel('#Rating')\n",
    "plt.title('Distribution of Average Ratings per User')\n",
    "plt.show()"
   ]
  },
  {
   "cell_type": "markdown",
   "metadata": {},
   "source": [
    "For an unknown user the system should assume that he'd give an average rating of 3.0 to a movie."
   ]
  },
  {
   "cell_type": "markdown",
   "metadata": {},
   "source": [
    "## 2. Training of a Recommender System"
   ]
  },
  {
   "cell_type": "markdown",
   "metadata": {},
   "source": [
    "Given $n$ users, $m$ movies and ratings $y_i$ that user $u^i$ gave for movie $x^i$ for $i = 1,\\dots,r$. For a given integer $k$, the number of latent factors, we want to find the user factor matrix $\\Psi \\in \\mathbb{R}^{n \\times k}$ and the movie factor matrix $\\Phi \\in \\mathbb{R}^{k \\times m}$, that minimize the expression:\n",
    "\n",
    "$$ L(y, \\Psi, \\Phi) = \\sum_{i \\in [r]}{\\mathcal{l}\\left(y^i, \\Psi_{u^i} \\Phi_{x^i} \\right)} + \\lambda( \\|\\Psi\\|_F^2 + \\| \\Phi \\|_F^2), $$\n",
    "\n",
    "where $\\| \\cdot \\|_F$ denotes the <a href=\"https://en.wikipedia.org/wiki/Matrix_norm#Frobenius_norm\">Frobenius norm</a>.\n",
    "\n",
    "Writing $\\hat B = \\Psi \\cdot \\Phi$ as our estimated rating matrix and using the squared loss, we can rewrite the loss function as:\n",
    "\n",
    "$$ L(y, \\Psi, \\Phi) = \\sum_{i \\in [r]}{(y^i - \\hat B_{u^i, x^i})^2} + \\lambda \\left(\\|\\Psi\\|_F^2 + \\|\\Phi\\|_F^2\\right). $$\n",
    "\n",
    "We solve this problem by optimizing $L(y, \\Psi, \\Phi)$ by fixing one of the factor matrices and optimize by the other via gradient descent.\n",
    "\n",
    "The loss function can be vectorized by looking at the rating matrix $B$ (which contains the $y^i$ at row $u^i$ and column $x^i$, unknown entries are marked with the symbol '?'). If we assume that $c + ? = ?$ and $c \\cdot ? = 0$ for all real $c$. The loss function equals:\n",
    "\n",
    "$$ L(B, \\Psi, \\Phi) = \\left\\|B - \\hat B\\right\\|_F^2 + \\lambda \\left(\\|\\Psi\\|_F^2 + \\|\\Phi\\|_F^2\\right) $$\n",
    "\n",
    "To avoid the extra algebra defined on the symbol '?' in most cases we replace the '?' with $0$ (assume the rating labels are nonzero!) and consider a 'weight matrix' $W$, with $W_{i,j}$ is the indicator function whether user $i$ has rated movie $j$. Henceforth,\n",
    "\n",
    "$$ L(B, \\Psi, \\Phi) = \\left\\| W \\circ (\\tilde B - \\hat B) \\right\\|_F^2 + \\lambda \\left(\\|\\Psi\\|_F^2 + \\|\\Phi\\|_F^2\\right), $$ \n",
    "\n",
    "where $\\circ$ is the Hadamard or Schur product, defined as $(A \\circ B)_{i, j} = A_{i, j} + B_{i, j}$ for any two matrices $A$ and $B$ of identical shape. Note that most practical implementations of sparse matrices assume that the values not set are zero, which is an important detail for the implementation of recommendation systems, where $B$ is usually a huge yet sparse matrix.\n",
    "\n",
    "<hr />\n",
    "Before we work on the movielens data set we are going through a simple example to make sure things are clear. Our goal is to find $k = 2$ latent factors. We have three users (Alice, Bob, Charlie), who rated four movies (Matrix, Zombieland, Titanic, Schindler's List), resulting in the following matrix:\n",
    "\n",
    "$$  B = \\begin{pmatrix} 5 & 4 & 1 & ? \\\\ 4 & ? & 5 & 4 \\\\ 5 & 3 & ? & 4 \\end{pmatrix}. $$\n",
    "\n",
    "To make handling these matrices easier, we are replacing the unknown values with zeros (giving us $\\tilde B$) and hold a 'weight matrix' $W \\in \\mathbb{R}^{n \\times m}$ that has the same shape as the rating matrix and $W_{i, j}$ is set to the indicator function if there exists a rating by user $i$ of movie $j$.\n",
    "\n",
    "$$ \\begin{align} \\tilde B = \\begin{pmatrix} 5 & 4 & 1 & 0 \\\\ 4 & 0 & 5 & 4 \\\\ 5 & 3 & 0 & 4 \\end{pmatrix}, \n",
    "&& W = \\begin{pmatrix} 1 & 1 & 1 & 0 \\\\ 1 & 0 & 1 & 1 \\\\ 1 & 1 & 0 & 1 \\end{pmatrix}. \\end{align}$$\n",
    "\n",
    "From now an we drop the tilde from $\\tilde B$.\n",
    "\n",
    "The implementation of the loss function without regularization can be done as follows:"
   ]
  },
  {
   "cell_type": "code",
   "execution_count": 5,
   "metadata": {},
   "outputs": [
    {
     "name": "stdout",
     "output_type": "stream",
     "text": [
      "0.0\n",
      "1.0\n"
     ]
    }
   ],
   "source": [
    "import numpy as np\n",
    "\n",
    "B = np.asarray(np.matrix('5 4 1 0; 4 0 5 4; 5 3 0 4'))\n",
    "W = np.asarray(np.matrix('1 1 1 0; 1 0 1 1; 1 1 0 1'))\n",
    "\n",
    "def frobenius(A):\n",
    "    return np.linalg.norm(A, 'fro')\n",
    "\n",
    "def schur(A, B):\n",
    "    \"\"\"\n",
    "    Computes the Schur product of A and B.\n",
    "    The * operator for numpy.ndarrays is precisely the Schur product.\n",
    "    \"\"\"\n",
    "    return np.asarray(A) * np.asarray(B)\n",
    "\n",
    "def loss(B_hat, B, W):\n",
    "    return frobenius(schur(W, B - B_hat))**2 # A.base * B.base equals the Schur product of A and B.\n",
    "\n",
    "print loss(B, B, W)\n",
    "print loss(np.matrix('4 4 1 2; 4 0 5 4; 5 3 0 4'), B , W)"
   ]
  },
  {
   "cell_type": "markdown",
   "metadata": {},
   "source": [
    "#### Exercise 2.1\n",
    "Implement the loss function $$ L(B, \\Psi, \\Phi) = \\left\\| W \\circ ( \\Psi \\cdot \\Phi - B) \\right\\|_F^2 + \\lambda \\left(\\|\\Psi\\|_F^2 + \\|\\Phi\\|_F^2\\right), $$ with and without regularization."
   ]
  },
  {
   "cell_type": "code",
   "execution_count": 3,
   "metadata": {
    "collapsed": true
   },
   "outputs": [],
   "source": [
    "def loss(Psi, Phi, B, W):\n",
    "    return frobenius(schur(W, Psi.dot(Phi) - B))**2\n",
    "\n",
    "def reg_loss(Psi, Phi, B, W, lambd=0.1):\n",
    "    return loss(Psi, Phi, B, W) + lambd * (frobenius(Psi)**2 + frobenius(Phi)**2)"
   ]
  },
  {
   "cell_type": "markdown",
   "metadata": {},
   "source": [
    "The following code minimize the regularised loss function by the Alternating Least Squares method presented in the lecture. Compare with the lecture slides and try to understand the steps of the algorithm."
   ]
  },
  {
   "cell_type": "code",
   "execution_count": 36,
   "metadata": {
    "collapsed": true
   },
   "outputs": [],
   "source": [
    "import time\n",
    "\n",
    "def incremental_als(B, W, k, lambd=0.1, iterations=10, verbose=True):\n",
    "    m_user, n_movies = B.shape\n",
    "    Psi = np.random.rand(m_user, k) # latent user features\n",
    "    Phi = np.random.rand(k, n_movies) # latent movie features\n",
    "\n",
    "    losses = np.zeros(iterations)\n",
    "    for n in range(iterations):\n",
    "        t0 = time.time()\n",
    "        \n",
    "        # opt. for all user\n",
    "        for u, Wu in enumerate(W):\n",
    "            Psi[u] = np.linalg.solve(np.dot(Phi, np.dot(np.diag(Wu), Phi.T)) + lambd * np.eye(k),\n",
    "                                   np.dot(Phi, np.dot(np.diag(Wu), B[u].T))).T\n",
    "        \n",
    "        # opt. for all movies\n",
    "        for x, Wx in enumerate(W.T):\n",
    "            Phi[:,x] = np.linalg.solve(np.dot(Psi.T, np.dot(np.diag(Wx), Psi)) + lambd * np.eye(k),\n",
    "                                     np.dot(Psi.T, np.dot(np.diag(Wx), B[:, x])))\n",
    "        \n",
    "        losses[n] = frobenius(schur(W, B - Psi.dot(Phi)))**2\n",
    "        \n",
    "        if verbose:\n",
    "            print('[round: {}, duration: {:6.2f} sec., loss: {:6.2f}]'.format(n, time.time() - t0, losses[n]))\n",
    "\n",
    "    if verbose:\n",
    "        plt.plot(losses, marker='s')\n",
    "        plt.xlabel('Iteration Round')\n",
    "        plt.ylabel('Squared Loss')\n",
    "        \n",
    "    return Psi, Phi"
   ]
  },
  {
   "cell_type": "markdown",
   "metadata": {},
   "source": [
    "#### Exercise 2.2\n",
    "Use the implementation of the incremental_als methode to approximate $\\Psi$ and $\\Phi$ with 2 latent features for our example matrices $B$ and $W$."
   ]
  },
  {
   "cell_type": "code",
   "execution_count": 85,
   "metadata": {},
   "outputs": [
    {
     "name": "stdout",
     "output_type": "stream",
     "text": [
      "[round: 0, duration:   0.00 sec., loss:   0.89]\n",
      "[round: 1, duration:   0.00 sec., loss:   0.09]\n",
      "[round: 2, duration:   0.00 sec., loss:   0.04]\n",
      "[round: 3, duration:   0.00 sec., loss:   0.04]\n",
      "[round: 4, duration:   0.00 sec., loss:   0.05]\n",
      "[round: 5, duration:   0.00 sec., loss:   0.05]\n",
      "[round: 6, duration:   0.00 sec., loss:   0.05]\n",
      "[round: 7, duration:   0.00 sec., loss:   0.04]\n",
      "[round: 8, duration:   0.00 sec., loss:   0.04]\n",
      "[round: 9, duration:   0.00 sec., loss:   0.04]\n"
     ]
    },
    {
     "data": {
      "image/png": "[encoded data removed]",
      "text/plain": [
       "<matplotlib.figure.Figure at 0x7fa4ee9c2b90>"
      ]
     },
     "metadata": {},
     "output_type": "display_data"
    }
   ],
   "source": [
    "Psi, Phi = incremental_als(B, W, 2)"
   ]
  },
  {
   "cell_type": "markdown",
   "metadata": {},
   "source": [
    "#### Exercise 2.3\n",
    "We can now predict ratings for movies by calculating $\\hat B = \\Psi \\cdot \\Phi$. Would Alice like Schindler's list? "
   ]
  },
  {
   "cell_type": "code",
   "execution_count": 89,
   "metadata": {},
   "outputs": [
    {
     "data": {
      "text/plain": [
       "3.6364104956227004"
      ]
     },
     "execution_count": 89,
     "metadata": {},
     "output_type": "execute_result"
    }
   ],
   "source": [
    "Psi.dot(Phi)[0, 3]"
   ]
  },
  {
   "cell_type": "markdown",
   "metadata": {},
   "source": [
    "Yes, Alice would probably like Schindler's list"
   ]
  },
  {
   "cell_type": "markdown",
   "metadata": {},
   "source": [
    "## 3. Working on the MovieLens data\n",
    "\n",
    "Lets get back to the MovieLens data. We will reduce the number of users so training time will only take a couple of seconds instead of minutes."
   ]
  },
  {
   "cell_type": "code",
   "execution_count": 90,
   "metadata": {},
   "outputs": [
    {
     "name": "stdout",
     "output_type": "stream",
     "text": [
      "Number of users: 500\n"
     ]
    }
   ],
   "source": [
    "np.random.seed(0)\n",
    "user_ids = ratings.user_id.unique()\n",
    "drop_users = np.random.permutation(user_ids)[500:] # keep 500 users randomly\n",
    "drop_index = ratings.index[ratings.user_id.apply(lambda idx: idx in drop_users).values]\n",
    "ratings = ratings.drop(drop_index).reset_index(drop=True)\n",
    "\n",
    "print 'Number of users: {}'.format(ratings.user_id.unique().shape[0])"
   ]
  },
  {
   "cell_type": "markdown",
   "metadata": {},
   "source": [
    "#### Exercise 3.1\n",
    "Put everything we did so far together. Construct the $B$ and $W$ matrix from the MovieLens data. The <a href=\"http://pandas.pydata.org/pandas-docs/stable/generated/pandas.pivot_table.html\">pandas.pivot_table</a> method can be helpful. Learn $\\Psi$ and $\\Phi$  with 50 latent features and $\\lambda = 2.5$. Print out the top 10 rated movies for some users and compare with the predicted rating from the recommender."
   ]
  },
  {
   "cell_type": "code",
   "execution_count": 9,
   "metadata": {},
   "outputs": [
    {
     "data": {
      "text/html": [
       "<div>\n",
       "<style>\n",
       "    .dataframe thead tr:only-child th {\n",
       "        text-align: right;\n",
       "    }\n",
       "\n",
       "    .dataframe thead th {\n",
       "        text-align: left;\n",
       "    }\n",
       "\n",
       "    .dataframe tbody tr th {\n",
       "        vertical-align: top;\n",
       "    }\n",
       "</style>\n",
       "<table border=\"1\" class=\"dataframe\">\n",
       "  <thead>\n",
       "    <tr style=\"text-align: right;\">\n",
       "      <th>name</th>\n",
       "      <th>101 Dalmatians (1996)</th>\n",
       "      <th>12 Angry Men (1957)</th>\n",
       "      <th>187 (1997)</th>\n",
       "      <th>20,000 Leagues Under the Sea (1954)</th>\n",
       "      <th>2001: A Space Odyssey (1968)</th>\n",
       "      <th>3 Ninjas: High Noon At Mega Mountain (1998)</th>\n",
       "      <th>39 Steps, The (1935)</th>\n",
       "      <th>Absolute Power (1997)</th>\n",
       "      <th>Abyss, The (1989)</th>\n",
       "      <th>Ace Ventura: Pet Detective (1994)</th>\n",
       "      <th>...</th>\n",
       "      <th>Wolf (1994)</th>\n",
       "      <th>Wonderful, Horrible Life of Leni Riefenstahl, The (1993)</th>\n",
       "      <th>Wonderland (1997)</th>\n",
       "      <th>Wrong Trousers, The (1993)</th>\n",
       "      <th>Wyatt Earp (1994)</th>\n",
       "      <th>Year of the Horse (1997)</th>\n",
       "      <th>Young Frankenstein (1974)</th>\n",
       "      <th>Young Guns (1988)</th>\n",
       "      <th>Young Poisoner's Handbook, The (1995)</th>\n",
       "      <th>unknown</th>\n",
       "    </tr>\n",
       "    <tr>\n",
       "      <th>user_id</th>\n",
       "      <th></th>\n",
       "      <th></th>\n",
       "      <th></th>\n",
       "      <th></th>\n",
       "      <th></th>\n",
       "      <th></th>\n",
       "      <th></th>\n",
       "      <th></th>\n",
       "      <th></th>\n",
       "      <th></th>\n",
       "      <th></th>\n",
       "      <th></th>\n",
       "      <th></th>\n",
       "      <th></th>\n",
       "      <th></th>\n",
       "      <th></th>\n",
       "      <th></th>\n",
       "      <th></th>\n",
       "      <th></th>\n",
       "      <th></th>\n",
       "      <th></th>\n",
       "    </tr>\n",
       "  </thead>\n",
       "  <tbody>\n",
       "    <tr>\n",
       "      <th>1</th>\n",
       "      <td>0</td>\n",
       "      <td>4</td>\n",
       "      <td>5</td>\n",
       "      <td>3</td>\n",
       "      <td>0</td>\n",
       "      <td>5</td>\n",
       "      <td>0</td>\n",
       "      <td>5</td>\n",
       "      <td>0</td>\n",
       "      <td>3</td>\n",
       "      <td>...</td>\n",
       "      <td>4</td>\n",
       "      <td>4</td>\n",
       "      <td>3</td>\n",
       "      <td>0</td>\n",
       "      <td>0</td>\n",
       "      <td>0</td>\n",
       "      <td>0</td>\n",
       "      <td>4</td>\n",
       "      <td>0</td>\n",
       "      <td>0</td>\n",
       "    </tr>\n",
       "    <tr>\n",
       "      <th>2</th>\n",
       "      <td>0</td>\n",
       "      <td>4</td>\n",
       "      <td>0</td>\n",
       "      <td>0</td>\n",
       "      <td>0</td>\n",
       "      <td>0</td>\n",
       "      <td>0</td>\n",
       "      <td>0</td>\n",
       "      <td>0</td>\n",
       "      <td>0</td>\n",
       "      <td>...</td>\n",
       "      <td>0</td>\n",
       "      <td>0</td>\n",
       "      <td>0</td>\n",
       "      <td>0</td>\n",
       "      <td>0</td>\n",
       "      <td>0</td>\n",
       "      <td>0</td>\n",
       "      <td>0</td>\n",
       "      <td>0</td>\n",
       "      <td>3</td>\n",
       "    </tr>\n",
       "    <tr>\n",
       "      <th>3</th>\n",
       "      <td>0</td>\n",
       "      <td>0</td>\n",
       "      <td>0</td>\n",
       "      <td>0</td>\n",
       "      <td>0</td>\n",
       "      <td>0</td>\n",
       "      <td>0</td>\n",
       "      <td>3</td>\n",
       "      <td>0</td>\n",
       "      <td>0</td>\n",
       "      <td>...</td>\n",
       "      <td>1</td>\n",
       "      <td>0</td>\n",
       "      <td>0</td>\n",
       "      <td>0</td>\n",
       "      <td>0</td>\n",
       "      <td>0</td>\n",
       "      <td>0</td>\n",
       "      <td>0</td>\n",
       "      <td>0</td>\n",
       "      <td>4</td>\n",
       "    </tr>\n",
       "    <tr>\n",
       "      <th>4</th>\n",
       "      <td>0</td>\n",
       "      <td>0</td>\n",
       "      <td>0</td>\n",
       "      <td>0</td>\n",
       "      <td>0</td>\n",
       "      <td>0</td>\n",
       "      <td>0</td>\n",
       "      <td>4</td>\n",
       "      <td>0</td>\n",
       "      <td>0</td>\n",
       "      <td>...</td>\n",
       "      <td>0</td>\n",
       "      <td>0</td>\n",
       "      <td>0</td>\n",
       "      <td>0</td>\n",
       "      <td>0</td>\n",
       "      <td>0</td>\n",
       "      <td>0</td>\n",
       "      <td>4</td>\n",
       "      <td>0</td>\n",
       "      <td>0</td>\n",
       "    </tr>\n",
       "    <tr>\n",
       "      <th>5</th>\n",
       "      <td>0</td>\n",
       "      <td>0</td>\n",
       "      <td>0</td>\n",
       "      <td>0</td>\n",
       "      <td>3</td>\n",
       "      <td>4</td>\n",
       "      <td>0</td>\n",
       "      <td>5</td>\n",
       "      <td>0</td>\n",
       "      <td>0</td>\n",
       "      <td>...</td>\n",
       "      <td>0</td>\n",
       "      <td>0</td>\n",
       "      <td>0</td>\n",
       "      <td>0</td>\n",
       "      <td>0</td>\n",
       "      <td>0</td>\n",
       "      <td>0</td>\n",
       "      <td>0</td>\n",
       "      <td>0</td>\n",
       "      <td>3</td>\n",
       "    </tr>\n",
       "  </tbody>\n",
       "</table>\n",
       "<p>5 rows × 935 columns</p>\n",
       "</div>"
      ],
      "text/plain": [
       "name     101 Dalmatians (1996)  12 Angry Men (1957)  187 (1997)  \\\n",
       "user_id                                                           \n",
       "1                            0                    4           5   \n",
       "2                            0                    4           0   \n",
       "3                            0                    0           0   \n",
       "4                            0                    0           0   \n",
       "5                            0                    0           0   \n",
       "\n",
       "name     20,000 Leagues Under the Sea (1954)  2001: A Space Odyssey (1968)  \\\n",
       "user_id                                                                      \n",
       "1                                          3                             0   \n",
       "2                                          0                             0   \n",
       "3                                          0                             0   \n",
       "4                                          0                             0   \n",
       "5                                          0                             3   \n",
       "\n",
       "name     3 Ninjas: High Noon At Mega Mountain (1998)  39 Steps, The (1935)  \\\n",
       "user_id                                                                      \n",
       "1                                                  5                     0   \n",
       "2                                                  0                     0   \n",
       "3                                                  0                     0   \n",
       "4                                                  0                     0   \n",
       "5                                                  4                     0   \n",
       "\n",
       "name     Absolute Power (1997)  Abyss, The (1989)  \\\n",
       "user_id                                             \n",
       "1                            5                  0   \n",
       "2                            0                  0   \n",
       "3                            3                  0   \n",
       "4                            4                  0   \n",
       "5                            5                  0   \n",
       "\n",
       "name     Ace Ventura: Pet Detective (1994)   ...     Wolf (1994)  \\\n",
       "user_id                                      ...                   \n",
       "1                                        3   ...               4   \n",
       "2                                        0   ...               0   \n",
       "3                                        0   ...               1   \n",
       "4                                        0   ...               0   \n",
       "5                                        0   ...               0   \n",
       "\n",
       "name     Wonderful, Horrible Life of Leni Riefenstahl, The (1993)  \\\n",
       "user_id                                                             \n",
       "1                                                        4          \n",
       "2                                                        0          \n",
       "3                                                        0          \n",
       "4                                                        0          \n",
       "5                                                        0          \n",
       "\n",
       "name     Wonderland (1997)  Wrong Trousers, The (1993)  Wyatt Earp (1994)  \\\n",
       "user_id                                                                     \n",
       "1                        3                           0                  0   \n",
       "2                        0                           0                  0   \n",
       "3                        0                           0                  0   \n",
       "4                        0                           0                  0   \n",
       "5                        0                           0                  0   \n",
       "\n",
       "name     Year of the Horse (1997)  Young Frankenstein (1974)  \\\n",
       "user_id                                                        \n",
       "1                               0                          0   \n",
       "2                               0                          0   \n",
       "3                               0                          0   \n",
       "4                               0                          0   \n",
       "5                               0                          0   \n",
       "\n",
       "name     Young Guns (1988)  Young Poisoner's Handbook, The (1995)  unknown  \n",
       "user_id                                                                     \n",
       "1                        4                                      0        0  \n",
       "2                        0                                      0        3  \n",
       "3                        0                                      0        4  \n",
       "4                        4                                      0        0  \n",
       "5                        0                                      0        3  \n",
       "\n",
       "[5 rows x 935 columns]"
      ]
     },
     "execution_count": 9,
     "metadata": {},
     "output_type": "execute_result"
    }
   ],
   "source": [
    "interesting_ratings = ratings[[\"user_id\", \"rating\", \"name\"]]\n",
    "ratings_df = pd.pivot_table(interesting_ratings, index=['user_id'], columns=['name'], values='rating', fill_value=0)\n",
    "ratings_df.head()"
   ]
  },
  {
   "cell_type": "code",
   "execution_count": 111,
   "metadata": {},
   "outputs": [
    {
     "name": "stdout",
     "output_type": "stream",
     "text": [
      "[round: 0, duration:   6.04 sec., loss: 10329.17]\n",
      "[round: 1, duration:   7.27 sec., loss: 4650.69]\n",
      "[round: 2, duration:   6.72 sec., loss: 3450.73]\n",
      "[round: 3, duration:   5.61 sec., loss: 2931.97]\n",
      "[round: 4, duration:   7.67 sec., loss: 2640.95]\n",
      "[round: 5, duration:   9.34 sec., loss: 2455.45]\n",
      "[round: 6, duration:   7.35 sec., loss: 2327.78]\n",
      "[round: 7, duration:   8.78 sec., loss: 2234.68]\n",
      "[round: 8, duration:   7.49 sec., loss: 2163.73]\n",
      "[round: 9, duration:   5.27 sec., loss: 2107.85]\n"
     ]
    },
    {
     "data": {
      "image/png": "[encoded data removed]",
      "text/plain": [
       "<matplotlib.figure.Figure at 0x7fa4ee435e90>"
      ]
     },
     "metadata": {},
     "output_type": "display_data"
    }
   ],
   "source": [
    "W = ratings_df > 0\n",
    "Psi, Phi = incremental_als(ratings_df.values, W.values, 50, lambd=2.5)"
   ]
  },
  {
   "cell_type": "code",
   "execution_count": 150,
   "metadata": {},
   "outputs": [
    {
     "data": {
      "text/html": [
       "<div>\n",
       "<style>\n",
       "    .dataframe thead tr:only-child th {\n",
       "        text-align: right;\n",
       "    }\n",
       "\n",
       "    .dataframe thead th {\n",
       "        text-align: left;\n",
       "    }\n",
       "\n",
       "    .dataframe tbody tr th {\n",
       "        vertical-align: top;\n",
       "    }\n",
       "</style>\n",
       "<table border=\"1\" class=\"dataframe\">\n",
       "  <thead>\n",
       "    <tr style=\"text-align: right;\">\n",
       "      <th></th>\n",
       "      <th>movie_id</th>\n",
       "      <th>rating</th>\n",
       "      <th>name</th>\n",
       "      <th>release_year</th>\n",
       "    </tr>\n",
       "    <tr>\n",
       "      <th>user_id</th>\n",
       "      <th></th>\n",
       "      <th></th>\n",
       "      <th></th>\n",
       "      <th></th>\n",
       "    </tr>\n",
       "  </thead>\n",
       "  <tbody>\n",
       "    <tr>\n",
       "      <th>181</th>\n",
       "      <td>507</td>\n",
       "      <td>507</td>\n",
       "      <td>507</td>\n",
       "      <td>506</td>\n",
       "    </tr>\n",
       "    <tr>\n",
       "      <th>286</th>\n",
       "      <td>481</td>\n",
       "      <td>481</td>\n",
       "      <td>481</td>\n",
       "      <td>481</td>\n",
       "    </tr>\n",
       "    <tr>\n",
       "      <th>98</th>\n",
       "      <td>390</td>\n",
       "      <td>390</td>\n",
       "      <td>390</td>\n",
       "      <td>389</td>\n",
       "    </tr>\n",
       "    <tr>\n",
       "      <th>172</th>\n",
       "      <td>367</td>\n",
       "      <td>367</td>\n",
       "      <td>367</td>\n",
       "      <td>366</td>\n",
       "    </tr>\n",
       "    <tr>\n",
       "      <th>79</th>\n",
       "      <td>336</td>\n",
       "      <td>336</td>\n",
       "      <td>336</td>\n",
       "      <td>336</td>\n",
       "    </tr>\n",
       "  </tbody>\n",
       "</table>\n",
       "</div>"
      ],
      "text/plain": [
       "         movie_id  rating  name  release_year\n",
       "user_id                                      \n",
       "181           507     507   507           506\n",
       "286           481     481   481           481\n",
       "98            390     390   390           389\n",
       "172           367     367   367           366\n",
       "79            336     336   336           336"
      ]
     },
     "execution_count": 150,
     "metadata": {},
     "output_type": "execute_result"
    }
   ],
   "source": [
    "most_rating_users = ratings.groupby('user_id').count().sort_values('rating', ascending=False)\n",
    "most_rating_users.head()"
   ]
  },
  {
   "cell_type": "code",
   "execution_count": 132,
   "metadata": {},
   "outputs": [
    {
     "data": {
      "text/html": [
       "<div>\n",
       "<style>\n",
       "    .dataframe thead tr:only-child th {\n",
       "        text-align: right;\n",
       "    }\n",
       "\n",
       "    .dataframe thead th {\n",
       "        text-align: left;\n",
       "    }\n",
       "\n",
       "    .dataframe tbody tr th {\n",
       "        vertical-align: top;\n",
       "    }\n",
       "</style>\n",
       "<table border=\"1\" class=\"dataframe\">\n",
       "  <thead>\n",
       "    <tr style=\"text-align: right;\">\n",
       "      <th>name</th>\n",
       "      <th>101 Dalmatians (1996)</th>\n",
       "      <th>12 Angry Men (1957)</th>\n",
       "      <th>187 (1997)</th>\n",
       "      <th>20,000 Leagues Under the Sea (1954)</th>\n",
       "      <th>2001: A Space Odyssey (1968)</th>\n",
       "      <th>3 Ninjas: High Noon At Mega Mountain (1998)</th>\n",
       "      <th>39 Steps, The (1935)</th>\n",
       "      <th>Absolute Power (1997)</th>\n",
       "      <th>Abyss, The (1989)</th>\n",
       "      <th>Ace Ventura: Pet Detective (1994)</th>\n",
       "      <th>...</th>\n",
       "      <th>Wolf (1994)</th>\n",
       "      <th>Wonderful, Horrible Life of Leni Riefenstahl, The (1993)</th>\n",
       "      <th>Wonderland (1997)</th>\n",
       "      <th>Wrong Trousers, The (1993)</th>\n",
       "      <th>Wyatt Earp (1994)</th>\n",
       "      <th>Year of the Horse (1997)</th>\n",
       "      <th>Young Frankenstein (1974)</th>\n",
       "      <th>Young Guns (1988)</th>\n",
       "      <th>Young Poisoner's Handbook, The (1995)</th>\n",
       "      <th>unknown</th>\n",
       "    </tr>\n",
       "    <tr>\n",
       "      <th>user_id</th>\n",
       "      <th></th>\n",
       "      <th></th>\n",
       "      <th></th>\n",
       "      <th></th>\n",
       "      <th></th>\n",
       "      <th></th>\n",
       "      <th></th>\n",
       "      <th></th>\n",
       "      <th></th>\n",
       "      <th></th>\n",
       "      <th></th>\n",
       "      <th></th>\n",
       "      <th></th>\n",
       "      <th></th>\n",
       "      <th></th>\n",
       "      <th></th>\n",
       "      <th></th>\n",
       "      <th></th>\n",
       "      <th></th>\n",
       "      <th></th>\n",
       "      <th></th>\n",
       "    </tr>\n",
       "  </thead>\n",
       "  <tbody>\n",
       "    <tr>\n",
       "      <th>3</th>\n",
       "      <td>1.543267</td>\n",
       "      <td>3.234932</td>\n",
       "      <td>3.425531</td>\n",
       "      <td>2.783434</td>\n",
       "      <td>2.804683</td>\n",
       "      <td>2.103382</td>\n",
       "      <td>2.484438</td>\n",
       "      <td>2.997382</td>\n",
       "      <td>2.528651</td>\n",
       "      <td>2.826895</td>\n",
       "      <td>...</td>\n",
       "      <td>1.440939</td>\n",
       "      <td>2.175479</td>\n",
       "      <td>2.567050</td>\n",
       "      <td>1.944869</td>\n",
       "      <td>1.096714</td>\n",
       "      <td>1.580911</td>\n",
       "      <td>1.347897</td>\n",
       "      <td>2.799006</td>\n",
       "      <td>1.753624</td>\n",
       "      <td>3.929761</td>\n",
       "    </tr>\n",
       "    <tr>\n",
       "      <th>4</th>\n",
       "      <td>2.343522</td>\n",
       "      <td>3.942528</td>\n",
       "      <td>4.115718</td>\n",
       "      <td>1.316067</td>\n",
       "      <td>1.784893</td>\n",
       "      <td>3.164271</td>\n",
       "      <td>2.747190</td>\n",
       "      <td>4.083087</td>\n",
       "      <td>1.826266</td>\n",
       "      <td>1.700854</td>\n",
       "      <td>...</td>\n",
       "      <td>2.995511</td>\n",
       "      <td>2.151739</td>\n",
       "      <td>2.451231</td>\n",
       "      <td>3.087489</td>\n",
       "      <td>1.407612</td>\n",
       "      <td>2.159642</td>\n",
       "      <td>2.738125</td>\n",
       "      <td>3.763347</td>\n",
       "      <td>1.191988</td>\n",
       "      <td>3.451245</td>\n",
       "    </tr>\n",
       "    <tr>\n",
       "      <th>11</th>\n",
       "      <td>2.522781</td>\n",
       "      <td>4.867580</td>\n",
       "      <td>3.821128</td>\n",
       "      <td>1.884208</td>\n",
       "      <td>3.371813</td>\n",
       "      <td>4.870727</td>\n",
       "      <td>2.943510</td>\n",
       "      <td>4.111614</td>\n",
       "      <td>2.796694</td>\n",
       "      <td>1.661136</td>\n",
       "      <td>...</td>\n",
       "      <td>2.134882</td>\n",
       "      <td>1.968222</td>\n",
       "      <td>2.074678</td>\n",
       "      <td>2.622976</td>\n",
       "      <td>1.019470</td>\n",
       "      <td>1.782946</td>\n",
       "      <td>2.260543</td>\n",
       "      <td>3.648677</td>\n",
       "      <td>1.790069</td>\n",
       "      <td>4.380829</td>\n",
       "    </tr>\n",
       "    <tr>\n",
       "      <th>13</th>\n",
       "      <td>2.188468</td>\n",
       "      <td>1.131777</td>\n",
       "      <td>2.366774</td>\n",
       "      <td>2.762346</td>\n",
       "      <td>1.939109</td>\n",
       "      <td>1.941947</td>\n",
       "      <td>3.863742</td>\n",
       "      <td>3.725763</td>\n",
       "      <td>2.109136</td>\n",
       "      <td>3.742953</td>\n",
       "      <td>...</td>\n",
       "      <td>2.909921</td>\n",
       "      <td>2.459726</td>\n",
       "      <td>3.044682</td>\n",
       "      <td>1.919180</td>\n",
       "      <td>0.781366</td>\n",
       "      <td>2.332987</td>\n",
       "      <td>2.414182</td>\n",
       "      <td>2.488133</td>\n",
       "      <td>1.796381</td>\n",
       "      <td>3.827150</td>\n",
       "    </tr>\n",
       "    <tr>\n",
       "      <th>14</th>\n",
       "      <td>3.187561</td>\n",
       "      <td>3.643326</td>\n",
       "      <td>3.583479</td>\n",
       "      <td>2.217281</td>\n",
       "      <td>2.658004</td>\n",
       "      <td>3.874091</td>\n",
       "      <td>4.778624</td>\n",
       "      <td>2.994116</td>\n",
       "      <td>2.762410</td>\n",
       "      <td>3.339987</td>\n",
       "      <td>...</td>\n",
       "      <td>3.791949</td>\n",
       "      <td>3.367512</td>\n",
       "      <td>4.823935</td>\n",
       "      <td>2.481627</td>\n",
       "      <td>1.355111</td>\n",
       "      <td>3.810219</td>\n",
       "      <td>2.360238</td>\n",
       "      <td>3.934209</td>\n",
       "      <td>2.115180</td>\n",
       "      <td>3.246346</td>\n",
       "    </tr>\n",
       "  </tbody>\n",
       "</table>\n",
       "<p>5 rows × 935 columns</p>\n",
       "</div>"
      ],
      "text/plain": [
       "name     101 Dalmatians (1996)  12 Angry Men (1957)  187 (1997)  \\\n",
       "user_id                                                           \n",
       "3                     1.543267             3.234932    3.425531   \n",
       "4                     2.343522             3.942528    4.115718   \n",
       "11                    2.522781             4.867580    3.821128   \n",
       "13                    2.188468             1.131777    2.366774   \n",
       "14                    3.187561             3.643326    3.583479   \n",
       "\n",
       "name     20,000 Leagues Under the Sea (1954)  2001: A Space Odyssey (1968)  \\\n",
       "user_id                                                                      \n",
       "3                                   2.783434                      2.804683   \n",
       "4                                   1.316067                      1.784893   \n",
       "11                                  1.884208                      3.371813   \n",
       "13                                  2.762346                      1.939109   \n",
       "14                                  2.217281                      2.658004   \n",
       "\n",
       "name     3 Ninjas: High Noon At Mega Mountain (1998)  39 Steps, The (1935)  \\\n",
       "user_id                                                                      \n",
       "3                                           2.103382              2.484438   \n",
       "4                                           3.164271              2.747190   \n",
       "11                                          4.870727              2.943510   \n",
       "13                                          1.941947              3.863742   \n",
       "14                                          3.874091              4.778624   \n",
       "\n",
       "name     Absolute Power (1997)  Abyss, The (1989)  \\\n",
       "user_id                                             \n",
       "3                     2.997382           2.528651   \n",
       "4                     4.083087           1.826266   \n",
       "11                    4.111614           2.796694   \n",
       "13                    3.725763           2.109136   \n",
       "14                    2.994116           2.762410   \n",
       "\n",
       "name     Ace Ventura: Pet Detective (1994)    ...     Wolf (1994)  \\\n",
       "user_id                                       ...                   \n",
       "3                                 2.826895    ...        1.440939   \n",
       "4                                 1.700854    ...        2.995511   \n",
       "11                                1.661136    ...        2.134882   \n",
       "13                                3.742953    ...        2.909921   \n",
       "14                                3.339987    ...        3.791949   \n",
       "\n",
       "name     Wonderful, Horrible Life of Leni Riefenstahl, The (1993)  \\\n",
       "user_id                                                             \n",
       "3                                                 2.175479          \n",
       "4                                                 2.151739          \n",
       "11                                                1.968222          \n",
       "13                                                2.459726          \n",
       "14                                                3.367512          \n",
       "\n",
       "name     Wonderland (1997)  Wrong Trousers, The (1993)  Wyatt Earp (1994)  \\\n",
       "user_id                                                                     \n",
       "3                 2.567050                    1.944869           1.096714   \n",
       "4                 2.451231                    3.087489           1.407612   \n",
       "11                2.074678                    2.622976           1.019470   \n",
       "13                3.044682                    1.919180           0.781366   \n",
       "14                4.823935                    2.481627           1.355111   \n",
       "\n",
       "name     Year of the Horse (1997)  Young Frankenstein (1974)  \\\n",
       "user_id                                                        \n",
       "3                        1.580911                   1.347897   \n",
       "4                        2.159642                   2.738125   \n",
       "11                       1.782946                   2.260543   \n",
       "13                       2.332987                   2.414182   \n",
       "14                       3.810219                   2.360238   \n",
       "\n",
       "name     Young Guns (1988)  Young Poisoner's Handbook, The (1995)   unknown  \n",
       "user_id                                                                      \n",
       "3                 2.799006                               1.753624  3.929761  \n",
       "4                 3.763347                               1.191988  3.451245  \n",
       "11                3.648677                               1.790069  4.380829  \n",
       "13                2.488133                               1.796381  3.827150  \n",
       "14                3.934209                               2.115180  3.246346  \n",
       "\n",
       "[5 rows x 935 columns]"
      ]
     },
     "execution_count": 132,
     "metadata": {},
     "output_type": "execute_result"
    }
   ],
   "source": [
    "# Turn latent matrices to DataFrames for easier handling\n",
    "estimated_ratings = pd.DataFrame(Psi.dot(Phi), index=ratings_df.index, columns=ratings_df.columns)\n",
    "estimated_ratings.head()"
   ]
  },
  {
   "cell_type": "code",
   "execution_count": 172,
   "metadata": {},
   "outputs": [
    {
     "name": "stdout",
     "output_type": "stream",
     "text": [
      "181's top 10 movies\tRating\tPrediction:\n",
      "unknown\t5.0\t4.90609093948\n",
      "Hearts and Minds (1996)\t5.0\t4.73853331703\n",
      "Forrest Gump (1994)\t5.0\t4.96527523106\n",
      "Freeway (1996)\t5.0\t4.76973790725\n",
      "French Kiss (1995)\t5.0\t4.837969734\n",
      "Snow White and the Seven Dwarfs (1937)\t5.0\t5.05901850334\n",
      "Smile Like Yours, A (1997)\t5.0\t4.84736044692\n",
      "Ghost and the Darkness, The (1996)\t5.0\t5.02514738674\n",
      "Singin' in the Rain (1952)\t5.0\t4.79848222947\n",
      "GoodFellas (1990)\t5.0\t4.81969411152\n",
      "---\n",
      "286's top 10 movies\tRating\tPrediction:\n",
      "Local Hero (1983)\t5.0\t4.80495824875\n",
      "Star Trek: Generations (1994)\t5.0\t4.82965788159\n",
      "Mad City (1997)\t5.0\t4.77942729256\n",
      "Conan the Barbarian (1981)\t5.0\t4.76564548155\n",
      "Mallrats (1995)\t5.0\t4.96585124917\n",
      "Striptease (1996)\t5.0\t4.75886601914\n",
      "City Hall (1996)\t5.0\t4.91564345965\n",
      "As Good As It Gets (1997)\t5.0\t4.9549024088\n",
      "Maya Lin: A Strong Clear Vision (1994)\t5.0\t4.91087548639\n",
      "Star Trek: The Wrath of Khan (1982)\t5.0\t4.87510697146\n",
      "---\n",
      "98's top 10 movies\tRating\tPrediction:\n",
      "unknown\t5.0\t4.99175763148\n",
      "Nightmare Before Christmas, The (1993)\t5.0\t4.84620275455\n",
      "Lost in Space (1998)\t5.0\t5.11350440247\n",
      "Man Without a Face, The (1993)\t5.0\t4.95985205015\n",
      "Manhattan Murder Mystery (1993)\t5.0\t4.98194852612\n",
      "Mask, The (1994)\t5.0\t4.83020090067\n",
      "MatchMaker, The (1997)\t5.0\t4.97442574477\n",
      "Meet Me in St. Louis (1944)\t5.0\t5.00851267256\n",
      "Mighty Morphin Power Rangers: The Movie (1995)\t5.0\t4.88322421868\n",
      "Mimic (1997)\t5.0\t4.87779077302\n",
      "---\n"
     ]
    }
   ],
   "source": [
    "TOP_N_USERS = 3\n",
    "for user_id in list(most_rating_users.index)[:TOP_N_USERS]:\n",
    "    print(\"{}'s top 10 movies\\tRating\\tPrediction:\".format(user_id))\n",
    "    most_liked = ratings_df.loc[user_id, :].sort_values(ascending=False)[:10]\n",
    "    for i in most_liked.index:\n",
    "        print(\"{}\\t{}\\t{}\".format(i, most_liked[i], estimated_ratings.loc[user_id, i]))\n",
    "    print('---')"
   ]
  },
  {
   "cell_type": "markdown",
   "metadata": {},
   "source": [
    " We still don't know whether we over or under fit the data and which $k$ and $\\lambda$ would be best. The incremental_cv_als method is an extended which takes a training and a test set as input and additionally returns the training and test loss."
   ]
  },
  {
   "cell_type": "code",
   "execution_count": 15,
   "metadata": {
    "collapsed": true
   },
   "outputs": [],
   "source": [
    "def incremental_cv_als((B_train, W_train), (B_test, W_test), k, lambd=0.1, iterations=10, verbose=True):\n",
    "    m_user, n_movies = B_train.shape\n",
    "    Psi = np.random.rand(m_user, k) # latent user features\n",
    "    Phi = np.random.rand(k, n_movies) # latent movie features\n",
    "\n",
    "    losses_train = np.zeros(iterations)\n",
    "    losses_test = np.zeros(iterations)\n",
    "    for n in range(iterations):\n",
    "        t0 = time.time()\n",
    "        \n",
    "        # opt. for all user\n",
    "        for u, Wu in enumerate(W_train):\n",
    "            Psi[u] = np.linalg.solve(np.dot(Phi, np.dot(np.diag(Wu), Phi.T)) + lambd * np.eye(k),\n",
    "                                   np.dot(Phi, np.dot(np.diag(Wu), B_train[u].T))).T\n",
    "        \n",
    "        # opt. for all movies\n",
    "        for x, Wx in enumerate(W_train.T):\n",
    "            Phi[:,x] = np.linalg.solve(np.dot(Psi.T, np.dot(np.diag(Wx), Psi)) + lambd * np.eye(k),\n",
    "                                     np.dot(Psi.T, np.dot(np.diag(Wx), B_train[:, x])))\n",
    "        \n",
    "        losses_train[n] = frobenius(schur(W_train, B_train - Psi.dot(Phi)))**2\n",
    "        losses_test[n] = frobenius(schur(W_test, B_test - Psi.dot(Phi)))**2\n",
    "        \n",
    "        if verbose:\n",
    "            out_str = '[round: {}, duration: {:6.2f} sec., loss: {:6.2f}, test loss: {:6.2f}]'\n",
    "            print(out_str.format(n, time.time() - t0, losses_train[n], losses_test[n]))\n",
    "\n",
    "    if verbose:\n",
    "        plt.plot(losses_train, marker='s', label='train')\n",
    "        plt.plot(losses_test, marker='s', label='test')\n",
    "        plt.xlabel('Iteration Round')\n",
    "        plt.ylabel('Squared Loss')\n",
    "        plt.legend(loc='best')\n",
    "        \n",
    "    return (Psi, Phi), (losses_train[-1], losses_test[-1])"
   ]
  },
  {
   "cell_type": "markdown",
   "metadata": {},
   "source": [
    "#### Exercise 3.2 \n",
    "Split the data in a training and test set by creating $B_{train}$ and $B_{test}$ matrix from $B$ in such a way that about 75% percent of the ratings from $B$ are in $B_{train}$ and the remaining 25% of the ratings are in $B_{test}$ . Also construct $W_{train}$ and $W_{test}$. Use the incremental_cv_als to search for good parameter $k$ and $\\lambda$ which minimize the test loss and don't over fit on the training set."
   ]
  },
  {
   "cell_type": "code",
   "execution_count": 34,
   "metadata": {},
   "outputs": [],
   "source": [
    "test = np.random.rand(ratings_df.values.shape[0], ratings_df.values.shape[1]) < 0.25\n",
    "B_train = ratings_df * test\n",
    "B_test = ratings_df * ~test\n",
    "W_train = B_train > 0\n",
    "W_test = B_test > 0"
   ]
  },
  {
   "cell_type": "code",
   "execution_count": 46,
   "metadata": {},
   "outputs": [
    {
     "name": "stdout",
     "output_type": "stream",
     "text": [
      "Testing k=2\n"
     ]
    },
    {
     "ename": "KeyboardInterrupt",
     "evalue": "",
     "output_type": "error",
     "traceback": [
      "\u001b[0;31m---------------------------------------------------------------------------\u001b[0m",
      "\u001b[0;31mKeyboardInterrupt\u001b[0m                         Traceback (most recent call last)",
      "\u001b[0;32m<ipython-input-46-4726d32a54be>\u001b[0m in \u001b[0;36m<module>\u001b[0;34m()\u001b[0m\n\u001b[1;32m      6\u001b[0m     \u001b[0;32mprint\u001b[0m\u001b[0;34m(\u001b[0m\u001b[0;34m\"Testing k=\"\u001b[0m \u001b[0;34m+\u001b[0m \u001b[0mstr\u001b[0m\u001b[0;34m(\u001b[0m\u001b[0mk\u001b[0m\u001b[0;34m)\u001b[0m\u001b[0;34m)\u001b[0m\u001b[0;34m\u001b[0m\u001b[0m\n\u001b[1;32m      7\u001b[0m     \u001b[0;32mfor\u001b[0m \u001b[0mlambd\u001b[0m \u001b[0;32min\u001b[0m \u001b[0mrange\u001b[0m\u001b[0;34m(\u001b[0m\u001b[0;36m1\u001b[0m\u001b[0;34m,\u001b[0m \u001b[0;36m3\u001b[0m\u001b[0;34m)\u001b[0m\u001b[0;34m:\u001b[0m\u001b[0;34m\u001b[0m\u001b[0m\n\u001b[0;32m----> 8\u001b[0;31m         \u001b[0;34m(\u001b[0m\u001b[0mPsi\u001b[0m\u001b[0;34m,\u001b[0m \u001b[0mPhi\u001b[0m\u001b[0;34m)\u001b[0m\u001b[0;34m,\u001b[0m \u001b[0;34m(\u001b[0m\u001b[0m_\u001b[0m\u001b[0;34m,\u001b[0m \u001b[0mnew_test_loss\u001b[0m\u001b[0;34m)\u001b[0m \u001b[0;34m=\u001b[0m \u001b[0mincremental_cv_als\u001b[0m\u001b[0;34m(\u001b[0m\u001b[0;34m(\u001b[0m\u001b[0mB_train\u001b[0m\u001b[0;34m.\u001b[0m\u001b[0mvalues\u001b[0m\u001b[0;34m,\u001b[0m \u001b[0mW_train\u001b[0m\u001b[0;34m.\u001b[0m\u001b[0mvalues\u001b[0m\u001b[0;34m)\u001b[0m\u001b[0;34m,\u001b[0m \u001b[0;34m(\u001b[0m\u001b[0mB_test\u001b[0m\u001b[0;34m.\u001b[0m\u001b[0mvalues\u001b[0m\u001b[0;34m,\u001b[0m \u001b[0mW_test\u001b[0m\u001b[0;34m.\u001b[0m\u001b[0mvalues\u001b[0m\u001b[0;34m)\u001b[0m\u001b[0;34m,\u001b[0m \u001b[0mk\u001b[0m\u001b[0;34m,\u001b[0m \u001b[0mlambd\u001b[0m\u001b[0;34m=\u001b[0m\u001b[0mlambd\u001b[0m\u001b[0;34m/\u001b[0m\u001b[0;36m10.0\u001b[0m\u001b[0;34m,\u001b[0m \u001b[0mverbose\u001b[0m\u001b[0;34m=\u001b[0m\u001b[0mFalse\u001b[0m\u001b[0;34m,\u001b[0m \u001b[0miterations\u001b[0m\u001b[0;34m=\u001b[0m\u001b[0;36m2\u001b[0m\u001b[0;34m)\u001b[0m\u001b[0;34m\u001b[0m\u001b[0m\n\u001b[0m\u001b[1;32m      9\u001b[0m         \u001b[0mlosses\u001b[0m\u001b[0;34m.\u001b[0m\u001b[0mappend\u001b[0m\u001b[0;34m(\u001b[0m\u001b[0mnew_test_loss\u001b[0m\u001b[0;34m)\u001b[0m\u001b[0;34m\u001b[0m\u001b[0m\n\u001b[1;32m     10\u001b[0m         \u001b[0;32mif\u001b[0m \u001b[0mnew_test_loss\u001b[0m \u001b[0;34m<\u001b[0m \u001b[0mtest_loss\u001b[0m\u001b[0;34m:\u001b[0m\u001b[0;34m\u001b[0m\u001b[0m\n",
      "\u001b[0;32m<ipython-input-15-f7fdc6ea6175>\u001b[0m in \u001b[0;36mincremental_cv_als\u001b[0;34m((B_train, W_train), (B_test, W_test), k, lambd, iterations, verbose)\u001b[0m\n\u001b[1;32m     16\u001b[0m         \u001b[0;31m# opt. for all movies\u001b[0m\u001b[0;34m\u001b[0m\u001b[0;34m\u001b[0m\u001b[0m\n\u001b[1;32m     17\u001b[0m         \u001b[0;32mfor\u001b[0m \u001b[0mx\u001b[0m\u001b[0;34m,\u001b[0m \u001b[0mWx\u001b[0m \u001b[0;32min\u001b[0m \u001b[0menumerate\u001b[0m\u001b[0;34m(\u001b[0m\u001b[0mW_train\u001b[0m\u001b[0;34m.\u001b[0m\u001b[0mT\u001b[0m\u001b[0;34m)\u001b[0m\u001b[0;34m:\u001b[0m\u001b[0;34m\u001b[0m\u001b[0m\n\u001b[0;32m---> 18\u001b[0;31m             Phi[:,x] = np.linalg.solve(np.dot(Psi.T, np.dot(np.diag(Wx), Psi)) + lambd * np.eye(k),\n\u001b[0m\u001b[1;32m     19\u001b[0m                                      np.dot(Psi.T, np.dot(np.diag(Wx), B_train[:, x])))\n\u001b[1;32m     20\u001b[0m \u001b[0;34m\u001b[0m\u001b[0m\n",
      "\u001b[0;31mKeyboardInterrupt\u001b[0m: "
     ]
    }
   ],
   "source": [
    "import sys\n",
    "test_loss = sys.maxint\n",
    "losses = []\n",
    "best_params = None\n",
    "for k in range(2, 5):\n",
    "    print(\"Testing k=\" + str(k))\n",
    "    for lambd in range(1, 3):\n",
    "        (Psi, Phi), (_, new_test_loss) = incremental_cv_als((B_train.values, W_train.values), (B_test.values, W_test.values), k, lambd=lambd/10.0, verbose=False, iterations=2)\n",
    "        losses.append(new_test_loss)\n",
    "        if new_test_loss < test_loss:\n",
    "            test_loss = new_test_loss\n",
    "            best_params = k, lambd/10.0\n",
    "print(\"Best Params: {}\".format((k, lambd/10.0)))"
   ]
  },
  {
   "cell_type": "code",
   "execution_count": 284,
   "metadata": {},
   "outputs": [
    {
     "data": {
      "image/png": "[encoded data removed]",
      "text/plain": [
       "<matplotlib.figure.Figure at 0x7fa4eae42850>"
      ]
     },
     "metadata": {},
     "output_type": "display_data"
    }
   ],
   "source": [
    "plt.plot(losses, marker='s', label='test_loss')\n",
    "plt.xlabel('Iteration Round')\n",
    "plt.ylabel('Squared Loss')\n",
    "plt.legend(loc='best')\n",
    "plt.show()"
   ]
  },
  {
   "cell_type": "code",
   "execution_count": 285,
   "metadata": {},
   "outputs": [
    {
     "data": {
      "text/plain": [
       "3"
      ]
     },
     "execution_count": 285,
     "metadata": {},
     "output_type": "execute_result"
    }
   ],
   "source": [
    "np.argmin(losses)"
   ]
  },
  {
   "cell_type": "code",
   "execution_count": 289,
   "metadata": {},
   "outputs": [
    {
     "data": {
      "text/plain": [
       "17738.771830181337"
      ]
     },
     "execution_count": 289,
     "metadata": {},
     "output_type": "execute_result"
    }
   ],
   "source": [
    "losses[3]"
   ]
  },
  {
   "cell_type": "markdown",
   "metadata": {},
   "source": [
    "The lowest test loss was found for k=2 and lambda=0.4."
   ]
  }
 ],
 "metadata": {
  "kernelspec": {
   "display_name": "home_venv2.7",
   "language": "python",
   "name": "home_venv2.7"
  },
  "language_info": {
   "codemirror_mode": {
    "name": "ipython",
    "version": 2
   },
   "file_extension": ".py",
   "mimetype": "text/x-python",
   "name": "python",
   "nbconvert_exporter": "python",
   "pygments_lexer": "ipython2",
   "version": "2.7.12"
  }
 },
 "nbformat": 4,
 "nbformat_minor": 1
}
