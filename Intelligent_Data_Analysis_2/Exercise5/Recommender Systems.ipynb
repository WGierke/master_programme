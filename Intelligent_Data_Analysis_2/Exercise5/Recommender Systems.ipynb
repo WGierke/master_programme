{
 "cells": [
  {
   "cell_type": "markdown",
   "metadata": {},
   "source": [
    "# Recommendation Systems"
   ]
  },
  {
   "cell_type": "markdown",
   "metadata": {},
   "source": [
    "## 1. Introduction and Data\n",
    "\n",
    "In this lab we are going to take a look at one of the <a href=\"http://grouplens.org/datasets/movielens/\">MovieLens</a> data sets, more precisely the smallest one (<a href=\"http://files.grouplens.org/datasets/movielens/ml-100k.zip\">ml-100k.zip</a>). Our data set includes 100,000 ratings of ~1.700 movies from ~1.000 users.\n",
    "\n",
    "We start by reading the data into a <a href=\"http://pandas.pydata.org/pandas-docs/stable/generated/pandas.DataFrame.html\">Pandas data frame</a>. This allows us to asses the quality of the data set and gain first insights. Once we have established a fundamental understanding we proceed by building a simple recommendation system for movies."
   ]
  },
  {
   "cell_type": "code",
   "execution_count": 1,
   "metadata": {},
   "outputs": [],
   "source": [
    "import os\n",
    "\n",
    "data_path = '.' + os.sep + 'ml-100k'"
   ]
  },
  {
   "cell_type": "markdown",
   "metadata": {},
   "source": [
    "The files we have got the following documentation. Note that we are just using 'u.data' and 'u.item', while throwing away some meta data.\n",
    "\n",
    "<i>\n",
    "<hr />\n",
    "u.data     -- The full u data set, 100000 ratings by 943 users on 1682 items.\n",
    "              Each user has rated at least 20 movies.  Users and items are\n",
    "              numbered consecutively from 1.  The data is randomly\n",
    "              ordered. This is a tab separated list of \n",
    "\t         user id | item id | rating | timestamp. \n",
    "              The time stamps are unix seconds since 1/1/1970 UTC <br />\n",
    "\n",
    "u.info     -- The number of users, items, and ratings in the u data set. <br />\n",
    "\n",
    "u.item     -- Information about the items (movies); this is a tab separated\n",
    "              list of\n",
    "              movie id | movie title | release date | video release date |\n",
    "              IMDb URL | unknown | Action | Adventure | Animation |\n",
    "              Children's | Comedy | Crime | Documentary | Drama | Fantasy |\n",
    "              Film-Noir | Horror | Musical | Mystery | Romance | Sci-Fi |\n",
    "              Thriller | War | Western |\n",
    "              The last 19 fields are the genres, a 1 indicates the movie\n",
    "              is of that genre, a 0 indicates it is not; movies can be in\n",
    "              several genres at once.\n",
    "              The movie ids are the ones used in the u.data data set. <br />\n",
    "\n",
    "u.genre    -- A list of the genres. <br />\n",
    "\n",
    "u.user     -- Demographic information about the users; this is a tab <br />\n",
    "              separated list of\n",
    "              user id | age | gender | occupation | zip code\n",
    "              The user ids are the ones used in the u.data data set.\n",
    "</i>\n",
    "<hr />\n",
    "\n",
    "So let's read our data."
   ]
  },
  {
   "cell_type": "code",
   "execution_count": 2,
   "metadata": {},
   "outputs": [
    {
     "name": "stdout",
     "output_type": "stream",
     "text": [
      "100000 data points were loaded.\n"
     ]
    }
   ],
   "source": [
    "import pandas as pd\n",
    "\n",
    "\n",
    "movies = pd.read_csv(os.path.join(data_path, 'u.item'),\n",
    "                     index_col=0,\n",
    "                     sep='|', \n",
    "                     header=None, \n",
    "                     usecols=[0,1,2],\n",
    "                     names=['movie_id', 'name', 'release_year'])\n",
    "movies['release_year'] = movies['release_year'].apply(lambda s: None if pd.isnull(s) else int(s.split('-')[2]))\n",
    "\n",
    "ratings = pd.read_csv(os.path.join(data_path, 'u.data'), \n",
    "                      sep='\\t',\n",
    "                      header=None,\n",
    "                      usecols=[0,1,2],\n",
    "                      names=['movie_id', 'user_id', 'rating'])\n",
    "ratings = ratings.merge(movies, 'left', left_on='movie_id', right_index=True)\n",
    "\n",
    "print(\"{} data points were loaded.\".format(len(ratings)))"
   ]
  },
  {
   "cell_type": "markdown",
   "metadata": {},
   "source": [
    "Pandas' data frames can sliced like Python's lists. For instance, to obtain the first 10 entries of a data frame df it can be written df[0:10] or df.head(10). Pandas supports basic descriptive statistics via the 'describe' method."
   ]
  },
  {
   "cell_type": "code",
   "execution_count": 3,
   "metadata": {},
   "outputs": [
    {
     "name": "stdout",
     "output_type": "stream",
     "text": [
      "   movie_id  user_id  rating  \\\n",
      "0       196      242       3   \n",
      "1       186      302       3   \n",
      "2        22      377       1   \n",
      "3       244       51       2   \n",
      "4       166      346       1   \n",
      "5       298      474       4   \n",
      "6       115      265       2   \n",
      "7       253      465       5   \n",
      "8       305      451       3   \n",
      "9         6       86       3   \n",
      "\n",
      "                                                name  release_year  \n",
      "0                          Dead Poets Society (1989)        1989.0  \n",
      "1                         Blues Brothers, The (1980)        1980.0  \n",
      "2                                  Braveheart (1995)        1996.0  \n",
      "3                      Smilla's Sense of Snow (1997)        1997.0  \n",
      "4     Manon of the Spring (Manon des sources) (1986)        1986.0  \n",
      "5                                    Face/Off (1997)        1997.0  \n",
      "6    Haunted World of Edward D. Wood Jr., The (1995)        1996.0  \n",
      "7                            Pillow Book, The (1995)        1997.0  \n",
      "8                              Ice Storm, The (1997)        1997.0  \n",
      "9  Shanghai Triad (Yao a yao yao dao waipo qiao) ...        1995.0  \n",
      "mean    3.529860\n",
      "std     1.125674\n",
      "min     1.000000\n",
      "25%     3.000000\n",
      "50%     4.000000\n",
      "75%     4.000000\n",
      "max     5.000000\n",
      "Name: rating, dtype: float64\n"
     ]
    }
   ],
   "source": [
    "print ratings.head(10)\n",
    "print ratings.describe().rating[1:]"
   ]
  },
  {
   "cell_type": "markdown",
   "metadata": {},
   "source": [
    "Also advanced methods of selection are available. The following method gives an example of selecting all pairs of movies and ratings a specific user has done."
   ]
  },
  {
   "cell_type": "code",
   "execution_count": 4,
   "metadata": {},
   "outputs": [
    {
     "name": "stdout",
     "output_type": "stream",
     "text": [
      "      movie_id                                         name  rating\n",
      "0          196                    Dead Poets Society (1989)       3\n",
      "253         63                     Santa Clause, The (1994)       3\n",
      "629        226                            Die Hard 2 (1990)       5\n",
      "1232       154          Monty Python's Life of Brian (1979)       3\n",
      "2159       306  Mrs. Brown (Her Majesty, Mrs. Brown) (1997)       5\n",
      "2335       296                          Promesse, La (1996)       4\n",
      "2600        34                  Doom Generation, The (1995)       5\n",
      "3484       271                     Starship Troopers (1997)       4\n",
      "4082       201                          Evil Dead II (1987)       4\n",
      "5548       209                    This Is Spinal Tap (1984)       4\n"
     ]
    }
   ],
   "source": [
    "def rated_movies_by_user(user_id):\n",
    "    return ratings[ratings['user_id'] == user_id][['movie_id', 'name', 'rating']]\n",
    "    \n",
    "print rated_movies_by_user(242)[:10]"
   ]
  },
  {
   "cell_type": "markdown",
   "metadata": {},
   "source": [
    "Pandas supports some plotting capabilities out of the box (that, for instance, uses matplotlib)."
   ]
  },
  {
   "cell_type": "code",
   "execution_count": 5,
   "metadata": {},
   "outputs": [
    {
     "data": {
      "image/png": "[encoded data removed]",
      "text/plain": [
       "<matplotlib.figure.Figure at 0x7f046e248a90>"
      ]
     },
     "metadata": {},
     "output_type": "display_data"
    },
    {
     "data": {
      "image/png": "[encoded data removed]",
      "text/plain": [
       "<matplotlib.figure.Figure at 0x7f046a6b3750>"
      ]
     },
     "metadata": {},
     "output_type": "display_data"
    }
   ],
   "source": [
    "%matplotlib inline\n",
    "import matplotlib.pyplot as plt\n",
    "\n",
    "ratings.hist(bins=5, grid=False, column='rating', ec='k')\n",
    "plt.xlim(1, 5)\n",
    "plt.xlabel('Rating')\n",
    "plt.ylabel('#Votes')\n",
    "plt.title('Distribution of ratings')\n",
    "plt.xticks([1, 2, 3, 4, 5])\n",
    "plt.show()\n",
    "\n",
    "ratings.groupby('user_id')['rating'].count().hist(grid=False, ec='k')\n",
    "plt.xlabel('Number of ratings')\n",
    "plt.ylabel('#Users')\n",
    "plt.title('Number of users with a given rating density')\n",
    "plt.show()"
   ]
  },
  {
   "cell_type": "markdown",
   "metadata": {},
   "source": [
    "#### Exercise 1.1\n",
    "How is the distribution of the movies' release dates? What is the implication for the recommendation system? Could this data set be used to engineer a recommender for \"film classics\"?"
   ]
  },
  {
   "cell_type": "code",
   "execution_count": 6,
   "metadata": {},
   "outputs": [],
   "source": [
    "# Ex. 1.1\n"
   ]
  },
  {
   "cell_type": "markdown",
   "metadata": {},
   "source": [
    "#### Exercise 1.2\n",
    "Do the scoring behavior differ among users? Is this problematic for the recommendation system?"
   ]
  },
  {
   "cell_type": "code",
   "execution_count": 8,
   "metadata": {},
   "outputs": [],
   "source": [
    "# Ex. 1.2"
   ]
  },
  {
   "cell_type": "markdown",
   "metadata": {},
   "source": [
    "## 2. Training of a Recommender System"
   ]
  },
  {
   "cell_type": "markdown",
   "metadata": {},
   "source": [
    "Given $n$ users, $m$ movies and ratings $y_i$ that user $u^i$ gave for movie $x^i$ for $i = 1,\\dots,r$. For a given integer $k$, the number of latent factors, we want to find the user factor matrix $\\Psi \\in \\mathbb{R}^{n \\times k}$ and the movie factor matrix $\\Phi \\in \\mathbb{R}^{k \\times m}$, that minimize the expression:\n",
    "\n",
    "$$ L(y, \\Psi, \\Phi) = \\sum_{i \\in [r]}{\\mathcal{l}\\left(y^i, \\Psi_{u^i} \\Phi_{x^i} \\right)} + \\lambda( \\|\\Psi\\|_F^2 + \\| \\Phi \\|_F^2), $$\n",
    "\n",
    "where $\\| \\cdot \\|_F$ denotes the <a href=\"https://en.wikipedia.org/wiki/Matrix_norm#Frobenius_norm\">Frobenius norm</a>.\n",
    "\n",
    "Writing $\\hat B = \\Psi \\cdot \\Phi$ as our estimated rating matrix and using the squared loss, we can rewrite the loss function as:\n",
    "\n",
    "$$ L(y, \\Psi, \\Phi) = \\sum_{i \\in [r]}{(y^i - \\hat B_{u^i, x^i})^2} + \\lambda \\left(\\|\\Psi\\|_F^2 + \\|\\Phi\\|_F^2\\right). $$\n",
    "\n",
    "We solve this problem by optimizing $L(y, \\Psi, \\Phi)$ by fixing one of the factor matrices and optimize by the other via gradient descent.\n",
    "\n",
    "The loss function can be vectorized by looking at the rating matrix $B$ (which contains the $y^i$ at row $u^i$ and column $x^i$, unknown entries are marked with the symbol '?'). If we assume that $c + ? = ?$ and $c \\cdot ? = 0$ for all real $c$. The loss function equals:\n",
    "\n",
    "$$ L(B, \\Psi, \\Phi) = \\left\\|B - \\hat B\\right\\|_F^2 + \\lambda \\left(\\|\\Psi\\|_F^2 + \\|\\Phi\\|_F^2\\right) $$\n",
    "\n",
    "To avoid the extra algebra defined on the symbol '?' in most cases we replace the '?' with $0$ (assume the rating labels are nonzero!) and consider a 'weight matrix' $W$, with $W_{i,j}$ is the indicator function whether user $i$ has rated movie $j$. Henceforth,\n",
    "\n",
    "$$ L(B, \\Psi, \\Phi) = \\left\\| W \\circ (\\tilde B - \\hat B) \\right\\|_F^2 + \\lambda \\left(\\|\\Psi\\|_F^2 + \\|\\Phi\\|_F^2\\right), $$ \n",
    "\n",
    "where $\\circ$ is the Hadamard or Schur product, defined as $(A \\circ B)_{i, j} = A_{i, j} + B_{i, j}$ for any two matrices $A$ and $B$ of identical shape. Note that most practical implementations of sparse matrices assume that the values not set are zero, which is an important detail for the implementation of recommendation systems, where $B$ is usually a huge yet sparse matrix.\n",
    "\n",
    "<hr />\n",
    "Before we work on the movielens data set we are going through a simple example to make sure things are clear. Our goal is to find $k = 2$ latent factors. We have three users (Alice, Bob, Charlie), who rated four movies (Matrix, Zombieland, Titanic, Schindler's List), resulting in the following matrix:\n",
    "\n",
    "$$  B = \\begin{pmatrix} 5 & 4 & 1 & ? \\\\ 4 & ? & 5 & 4 \\\\ 5 & 3 & ? & 4 \\end{pmatrix}. $$\n",
    "\n",
    "To make handling these matrices easier, we are replacing the unknown values with zeros (giving us $\\tilde B$) and hold a 'weight matrix' $W \\in \\mathbb{R}^{n \\times m}$ that has the same shape as the rating matrix and $W_{i, j}$ is set to the indicator function if there exists a rating by user $i$ of movie $j$.\n",
    "\n",
    "$$ \\begin{align} \\tilde B = \\begin{pmatrix} 5 & 4 & 1 & 0 \\\\ 4 & 0 & 5 & 4 \\\\ 5 & 3 & 0 & 4 \\end{pmatrix}, \n",
    "&& W = \\begin{pmatrix} 1 & 1 & 1 & 0 \\\\ 1 & 0 & 1 & 1 \\\\ 1 & 1 & 0 & 1 \\end{pmatrix}. \\end{align}$$\n",
    "\n",
    "From now an we drop the tilde from $\\tilde B$.\n",
    "\n",
    "The implementation of the loss function without regularization can be done as follows:"
   ]
  },
  {
   "cell_type": "code",
   "execution_count": 10,
   "metadata": {},
   "outputs": [
    {
     "name": "stdout",
     "output_type": "stream",
     "text": [
      "0.0\n",
      "1.0\n"
     ]
    }
   ],
   "source": [
    "import numpy as np\n",
    "\n",
    "B = np.asarray(np.matrix('5 4 1 0; 4 0 5 4; 5 3 0 4'))\n",
    "W = np.asarray(np.matrix('1 1 1 0; 1 0 1 1; 1 1 0 1'))\n",
    "\n",
    "def frobenius(A):\n",
    "    return np.linalg.norm(A, 'fro')\n",
    "\n",
    "def schur(A, B):\n",
    "    \"\"\"\n",
    "    Computes the Schur product of A and B.\n",
    "    The * operator for numpy.ndarrays is precisely the Schur product.\n",
    "    \"\"\"\n",
    "    return np.asarray(A) * np.asarray(B)\n",
    "\n",
    "def loss(B_hat, B, W):\n",
    "    return frobenius(schur(W, B - B_hat))**2 # A.base * B.base equals the Schur product of A and B.\n",
    "\n",
    "print loss(B, B, W)\n",
    "print loss(np.matrix('4 4 1 2; 4 0 5 4; 5 3 0 4'), B , W)"
   ]
  },
  {
   "cell_type": "markdown",
   "metadata": {},
   "source": [
    "#### Exercise 2.1\n",
    "Implement the loss function $$ L(B, \\Psi, \\Phi) = \\left\\| W \\circ ( \\Psi \\cdot \\Phi - B) \\right\\|_F^2 + \\lambda \\left(\\|\\Psi\\|_F^2 + \\|\\Phi\\|_F^2\\right), $$ with and without regularization."
   ]
  },
  {
   "cell_type": "code",
   "execution_count": 11,
   "metadata": {},
   "outputs": [],
   "source": [
    "# Ex. 2.1\n",
    "\n",
    "def loss(Psi, Phi, B, W):\n",
    "    pass\n",
    "\n",
    "def reg_loss(Psi, Phi, B, W, lambd=0.1):\n",
    "    pass"
   ]
  },
  {
   "cell_type": "markdown",
   "metadata": {},
   "source": [
    "The following code minimize the regularised loss function by the Alternating Least Squares method presented in the lecture. Compare with the lecture slides and try to understand the steps of the algorithm."
   ]
  },
  {
   "cell_type": "code",
   "execution_count": 13,
   "metadata": {},
   "outputs": [],
   "source": [
    "import time\n",
    "\n",
    "def incremental_als(B, W, k, lambd=0.1, iterations=10, verbose=True):\n",
    "    m_user, n_movies = B.shape\n",
    "    Psi = np.random.rand(m_user, k) # latent user features\n",
    "    Phi = np.random.rand(k, n_movies) # latent movie features\n",
    "\n",
    "    losses = np.zeros(iterations)\n",
    "    for n in range(iterations):\n",
    "        t0 = time.time()\n",
    "        \n",
    "        # opt. for all user\n",
    "        for u, Wu in enumerate(W):\n",
    "            Psi[u] = np.linalg.solve(np.dot(Phi, np.dot(np.diag(Wu), Phi.T)) + lambd * np.eye(k),\n",
    "                                   np.dot(Phi, np.dot(np.diag(Wu), B[u].T))).T\n",
    "        \n",
    "        # opt. for all movies\n",
    "        for x, Wx in enumerate(W.T):\n",
    "            Phi[:,x] = np.linalg.solve(np.dot(Psi.T, np.dot(np.diag(Wx), Psi)) + lambd * np.eye(k),\n",
    "                                     np.dot(Psi.T, np.dot(np.diag(Wx), B[:, x])))\n",
    "        \n",
    "        losses[n] = frobenius(schur(W, B - Psi.dot(Phi)))**2\n",
    "        \n",
    "        if verbose:\n",
    "            print('[round: {}, duration: {:6.2f} sec., loss: {:6.2f}]'.format(n, time.time() - t0, losses[n]))\n",
    "\n",
    "    if verbose:\n",
    "        plt.plot(losses, marker='s')\n",
    "        plt.xlabel('Iteration Round')\n",
    "        plt.ylabel('Squared Loss')\n",
    "        \n",
    "    return Psi, Phi"
   ]
  },
  {
   "cell_type": "markdown",
   "metadata": {},
   "source": [
    "#### Exercise 2.2\n",
    "Use the implementation of the incremental_als methode to approximate $\\Psi$ and $\\Phi$ with 2 latent features for our example matrices $B$ and $W$."
   ]
  },
  {
   "cell_type": "code",
   "execution_count": 14,
   "metadata": {},
   "outputs": [],
   "source": [
    "# Ex. 2.2\n"
   ]
  },
  {
   "cell_type": "markdown",
   "metadata": {},
   "source": [
    "#### Exercise 2.3\n",
    "We can now predict ratings for movies by calculating $\\hat B = \\Psi \\cdot \\Phi$. Would Alice like Schindler's list? "
   ]
  },
  {
   "cell_type": "code",
   "execution_count": 16,
   "metadata": {},
   "outputs": [],
   "source": [
    "# Ex. 2.3\n"
   ]
  },
  {
   "cell_type": "markdown",
   "metadata": {},
   "source": [
    "## 3. Working on the MovieLens data\n",
    "\n",
    "Lets get back to the MovieLens data. We will reduce the number of users so training time will only take a couple of seconds instead of minutes."
   ]
  },
  {
   "cell_type": "code",
   "execution_count": 18,
   "metadata": {},
   "outputs": [
    {
     "name": "stdout",
     "output_type": "stream",
     "text": [
      "Number of users: 500\n"
     ]
    }
   ],
   "source": [
    "np.random.seed(0)\n",
    "user_ids = ratings.user_id.unique()\n",
    "drop_users = np.random.permutation(user_ids)[500:] # keep 500 users randomly\n",
    "drop_index = ratings.index[ratings.user_id.apply(lambda idx: idx in drop_users).values]\n",
    "ratings = ratings.drop(drop_index).reset_index(drop=True)\n",
    "\n",
    "print 'Number of users: {}'.format(ratings.user_id.unique().shape[0])"
   ]
  },
  {
   "cell_type": "markdown",
   "metadata": {},
   "source": [
    "#### Exercise 3.1\n",
    "Put everything we did so far together. Construct the $B$ and $W$ matrix from the MovieLens data. The <a href=\"http://pandas.pydata.org/pandas-docs/stable/generated/pandas.pivot_table.html\">pandas.pivot_table</a> method can be helpful. Learn $\\Psi$ and $\\Phi$  with 50 latent features and $\\lambda = 2.5$. Print out the top 10 rated movies for some users and compare with the predicted rating from the recommender."
   ]
  },
  {
   "cell_type": "code",
   "execution_count": 19,
   "metadata": {},
   "outputs": [],
   "source": [
    "# Ex. 3.1\n"
   ]
  },
  {
   "cell_type": "markdown",
   "metadata": {},
   "source": [
    " We still don't know whether we over or under fit the data and which $k$ and $\\lambda$ would be best. The incremental_cv_als method is an extended which takes a training and a test set as input and additionally returns the training and test loss."
   ]
  },
  {
   "cell_type": "code",
   "execution_count": 21,
   "metadata": {},
   "outputs": [],
   "source": [
    "def incremental_cv_als((B_train, W_train), (B_test, W_test), k, lambd=0.1, iterations=10, verbose=True):\n",
    "    m_user, n_movies = B_train.shape\n",
    "    Psi = np.random.rand(m_user, k) # latent user features\n",
    "    Phi = np.random.rand(k, n_movies) # latent movie features\n",
    "\n",
    "    losses_train = np.zeros(iterations)\n",
    "    losses_test = np.zeros(iterations)\n",
    "    for n in range(iterations):\n",
    "        t0 = time.time()\n",
    "        \n",
    "        # opt. for all user\n",
    "        for u, Wu in enumerate(W_train):\n",
    "            Psi[u] = np.linalg.solve(np.dot(Phi, np.dot(np.diag(Wu), Phi.T)) + lambd * np.eye(k),\n",
    "                                   np.dot(Phi, np.dot(np.diag(Wu), B_train[u].T))).T\n",
    "        \n",
    "        # opt. for all movies\n",
    "        for x, Wx in enumerate(W_train.T):\n",
    "            Phi[:,x] = np.linalg.solve(np.dot(Psi.T, np.dot(np.diag(Wx), Psi)) + lambd * np.eye(k),\n",
    "                                     np.dot(Psi.T, np.dot(np.diag(Wx), B_train[:, x])))\n",
    "        \n",
    "        losses_train[n] = frobenius(schur(W_train, B_train - Psi.dot(Phi)))**2\n",
    "        losses_test[n] = frobenius(schur(W_test, B_test - Psi.dot(Phi)))**2\n",
    "        \n",
    "        if verbose:\n",
    "            out_str = '[round: {}, duration: {:6.2f} sec., loss: {:6.2f}, test loss: {:6.2f}]'\n",
    "            print(out_str.format(n, time.time() - t0, losses_train[n], losses_test[n]))\n",
    "\n",
    "    if verbose:\n",
    "        plt.plot(losses_train, marker='s', label='train')\n",
    "        plt.plot(losses_test, marker='s', label='test')\n",
    "        plt.xlabel('Iteration Round')\n",
    "        plt.ylabel('Squared Loss')\n",
    "        plt.legend(loc='best')\n",
    "        \n",
    "        return (Psi, Phi), (losses_train[-1], losses_test[-1])"
   ]
  },
  {
   "cell_type": "markdown",
   "metadata": {},
   "source": [
    "#### Exercise 3.2 \n",
    "Split the data in a training and test set by creating $B_{train}$ and $B_{test}$ matrix from $B$ in such a way that about 75% percent of the ratings from $B$ are in $B_{train}$ and the remaining 25% of the ratings are in $B_{test}$ . Also construct $W_{train}$ and $W_{test}$. Use the incremental_cv_als to search for good parameter $k$ and $\\lambda$ which minimize the test loss and don't over fit on the training set."
   ]
  },
  {
   "cell_type": "code",
   "execution_count": 22,
   "metadata": {},
   "outputs": [],
   "source": [
    "# Ex. 3.2\n"
   ]
  }
 ],
 "metadata": {
  "kernelspec": {
   "display_name": "Python 2",
   "language": "python",
   "name": "python2"
  },
  "language_info": {
   "codemirror_mode": {
    "name": "ipython",
    "version": 2
   },
   "file_extension": ".py",
   "mimetype": "text/x-python",
   "name": "python",
   "nbconvert_exporter": "python",
   "pygments_lexer": "ipython2",
   "version": "2.7.6"
  }
 },
 "nbformat": 4,
 "nbformat_minor": 1
}
